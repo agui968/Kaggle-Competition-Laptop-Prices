{
 "cells": [
  {
   "cell_type": "markdown",
   "metadata": {},
   "source": [
    "#### Aquí encontrarás todo lo que necesitas saber: https://www.kaggle.com/competitions/precio-portatiles-the-bridge/overview"
   ]
  },
  {
   "cell_type": "markdown",
   "metadata": {},
   "source": [
    "## Librerias"
   ]
  },
  {
   "cell_type": "code",
   "execution_count": 1,
   "metadata": {},
   "outputs": [],
   "source": [
    "import numpy as np\n",
    "import pandas as pd\n",
    "import seaborn as sns\n",
    "import matplotlib.pyplot as plt\n",
    "from sklearn.metrics import mean_absolute_error, mean_squared_error, mean_absolute_percentage_error, r2_score\n",
    "from sklearn import linear_model, metrics, model_selection\n",
    "from sklearn.linear_model import ElasticNet\n",
    "from sklearn.linear_model import Ridge\n",
    "import seaborn as sns"
   ]
  },
  {
   "cell_type": "markdown",
   "metadata": {},
   "source": [
    "## Data"
   ]
  },
  {
   "cell_type": "code",
   "execution_count": 2,
   "metadata": {},
   "outputs": [
    {
     "data": {
      "text/html": [
       "<div>\n",
       "<style scoped>\n",
       "    .dataframe tbody tr th:only-of-type {\n",
       "        vertical-align: middle;\n",
       "    }\n",
       "\n",
       "    .dataframe tbody tr th {\n",
       "        vertical-align: top;\n",
       "    }\n",
       "\n",
       "    .dataframe thead th {\n",
       "        text-align: right;\n",
       "    }\n",
       "</style>\n",
       "<table border=\"1\" class=\"dataframe\">\n",
       "  <thead>\n",
       "    <tr style=\"text-align: right;\">\n",
       "      <th></th>\n",
       "      <th>id</th>\n",
       "      <th>laptop_ID</th>\n",
       "      <th>Company</th>\n",
       "      <th>Product</th>\n",
       "      <th>TypeName</th>\n",
       "      <th>Inches</th>\n",
       "      <th>ScreenResolution</th>\n",
       "      <th>Cpu</th>\n",
       "      <th>Ram</th>\n",
       "      <th>Memory</th>\n",
       "      <th>Gpu</th>\n",
       "      <th>OpSys</th>\n",
       "      <th>Weight</th>\n",
       "      <th>Price_euros</th>\n",
       "    </tr>\n",
       "  </thead>\n",
       "  <tbody>\n",
       "    <tr>\n",
       "      <th>0</th>\n",
       "      <td>268</td>\n",
       "      <td>1002</td>\n",
       "      <td>Dell</td>\n",
       "      <td>Inspiron 5567</td>\n",
       "      <td>Notebook</td>\n",
       "      <td>15.6</td>\n",
       "      <td>1366x768</td>\n",
       "      <td>Intel Core i7 7500U 2.7GHz</td>\n",
       "      <td>8GB</td>\n",
       "      <td>1TB HDD</td>\n",
       "      <td>AMD Radeon R7 M445</td>\n",
       "      <td>Windows 10</td>\n",
       "      <td>2.36kg</td>\n",
       "      <td>749.00</td>\n",
       "    </tr>\n",
       "    <tr>\n",
       "      <th>1</th>\n",
       "      <td>347</td>\n",
       "      <td>867</td>\n",
       "      <td>Asus</td>\n",
       "      <td>X541NA (N4200/4GB/1TB/W10)</td>\n",
       "      <td>Notebook</td>\n",
       "      <td>15.6</td>\n",
       "      <td>1366x768</td>\n",
       "      <td>Intel Pentium Quad Core N4200 1.1GHz</td>\n",
       "      <td>4GB</td>\n",
       "      <td>1TB HDD</td>\n",
       "      <td>Intel HD Graphics 505</td>\n",
       "      <td>Windows 10</td>\n",
       "      <td>2kg</td>\n",
       "      <td>449.00</td>\n",
       "    </tr>\n",
       "    <tr>\n",
       "      <th>2</th>\n",
       "      <td>353</td>\n",
       "      <td>966</td>\n",
       "      <td>Toshiba</td>\n",
       "      <td>Portege Z30-C-1CW</td>\n",
       "      <td>Notebook</td>\n",
       "      <td>13.3</td>\n",
       "      <td>Full HD 1920x1080</td>\n",
       "      <td>Intel Core i5 6200U 2.3GHz</td>\n",
       "      <td>8GB</td>\n",
       "      <td>256GB SSD</td>\n",
       "      <td>Intel HD Graphics 520</td>\n",
       "      <td>Windows 7</td>\n",
       "      <td>1.2kg</td>\n",
       "      <td>1460.00</td>\n",
       "    </tr>\n",
       "    <tr>\n",
       "      <th>3</th>\n",
       "      <td>578</td>\n",
       "      <td>767</td>\n",
       "      <td>Dell</td>\n",
       "      <td>Alienware 17</td>\n",
       "      <td>Gaming</td>\n",
       "      <td>15.6</td>\n",
       "      <td>IPS Panel 4K Ultra HD 3840x2160</td>\n",
       "      <td>Intel Core i7 7700HQ 2.8GHz</td>\n",
       "      <td>16GB</td>\n",
       "      <td>256GB SSD +  1TB HDD</td>\n",
       "      <td>Nvidia GeForce GTX 1070</td>\n",
       "      <td>Windows 10</td>\n",
       "      <td>4.42kg</td>\n",
       "      <td>2868.99</td>\n",
       "    </tr>\n",
       "    <tr>\n",
       "      <th>4</th>\n",
       "      <td>42</td>\n",
       "      <td>1241</td>\n",
       "      <td>Dell</td>\n",
       "      <td>Latitude E7270</td>\n",
       "      <td>Ultrabook</td>\n",
       "      <td>12.5</td>\n",
       "      <td>Full HD / Touchscreen 1920x1080</td>\n",
       "      <td>Intel Core i5 6300U 2.4GHz</td>\n",
       "      <td>8GB</td>\n",
       "      <td>256GB SSD</td>\n",
       "      <td>Intel HD Graphics 520</td>\n",
       "      <td>Windows 7</td>\n",
       "      <td>1.26kg</td>\n",
       "      <td>1713.37</td>\n",
       "    </tr>\n",
       "  </tbody>\n",
       "</table>\n",
       "</div>"
      ],
      "text/plain": [
       "    id  laptop_ID  Company                     Product   TypeName  Inches  \\\n",
       "0  268       1002     Dell               Inspiron 5567   Notebook    15.6   \n",
       "1  347        867     Asus  X541NA (N4200/4GB/1TB/W10)   Notebook    15.6   \n",
       "2  353        966  Toshiba           Portege Z30-C-1CW   Notebook    13.3   \n",
       "3  578        767     Dell                Alienware 17     Gaming    15.6   \n",
       "4   42       1241     Dell              Latitude E7270  Ultrabook    12.5   \n",
       "\n",
       "                  ScreenResolution                                   Cpu  \\\n",
       "0                         1366x768            Intel Core i7 7500U 2.7GHz   \n",
       "1                         1366x768  Intel Pentium Quad Core N4200 1.1GHz   \n",
       "2                Full HD 1920x1080            Intel Core i5 6200U 2.3GHz   \n",
       "3  IPS Panel 4K Ultra HD 3840x2160           Intel Core i7 7700HQ 2.8GHz   \n",
       "4  Full HD / Touchscreen 1920x1080            Intel Core i5 6300U 2.4GHz   \n",
       "\n",
       "    Ram                Memory                      Gpu       OpSys  Weight  \\\n",
       "0   8GB               1TB HDD       AMD Radeon R7 M445  Windows 10  2.36kg   \n",
       "1   4GB               1TB HDD    Intel HD Graphics 505  Windows 10     2kg   \n",
       "2   8GB             256GB SSD    Intel HD Graphics 520   Windows 7   1.2kg   \n",
       "3  16GB  256GB SSD +  1TB HDD  Nvidia GeForce GTX 1070  Windows 10  4.42kg   \n",
       "4   8GB             256GB SSD    Intel HD Graphics 520   Windows 7  1.26kg   \n",
       "\n",
       "   Price_euros  \n",
       "0       749.00  \n",
       "1       449.00  \n",
       "2      1460.00  \n",
       "3      2868.99  \n",
       "4      1713.37  "
      ]
     },
     "execution_count": 2,
     "metadata": {},
     "output_type": "execute_result"
    }
   ],
   "source": [
    "### Para que funcione necesitas bajarte los archivos de datos de Kaggle \n",
    "df=pd.read_csv('data/train.csv')\n",
    "df.head()"
   ]
  },
  {
   "cell_type": "code",
   "execution_count": 228,
   "metadata": {},
   "outputs": [
    {
     "name": "stdout",
     "output_type": "stream",
     "text": [
      "<class 'pandas.core.frame.DataFrame'>\n",
      "RangeIndex: 912 entries, 0 to 911\n",
      "Data columns (total 14 columns):\n",
      " #   Column            Non-Null Count  Dtype  \n",
      "---  ------            --------------  -----  \n",
      " 0   id                912 non-null    int64  \n",
      " 1   laptop_ID         912 non-null    int64  \n",
      " 2   Company           912 non-null    object \n",
      " 3   Product           912 non-null    object \n",
      " 4   TypeName          912 non-null    object \n",
      " 5   Inches            912 non-null    float64\n",
      " 6   ScreenResolution  912 non-null    object \n",
      " 7   Cpu               912 non-null    object \n",
      " 8   Ram               912 non-null    object \n",
      " 9   Memory            912 non-null    object \n",
      " 10  Gpu               912 non-null    object \n",
      " 11  OpSys             912 non-null    object \n",
      " 12  Weight            912 non-null    object \n",
      " 13  Price_euros       912 non-null    float64\n",
      "dtypes: float64(2), int64(2), object(10)\n",
      "memory usage: 99.9+ KB\n"
     ]
    }
   ],
   "source": [
    "df.info()"
   ]
  },
  {
   "cell_type": "code",
   "execution_count": 3,
   "metadata": {},
   "outputs": [
    {
     "data": {
      "text/plain": [
       "array(['1TB HDD', '256GB SSD', '256GB SSD +  1TB HDD',\n",
       "       '512GB SSD +  2TB HDD', '128GB SSD +  1TB HDD', '128GB SSD',\n",
       "       '1TB SSD', '64GB Flash Storage', '2TB HDD', '500GB HDD',\n",
       "       '1.0TB Hybrid', '16GB Flash Storage', '256GB Flash Storage',\n",
       "       '180GB SSD', '32GB Flash Storage', '512GB SSD',\n",
       "       '512GB SSD +  1TB HDD', '256GB SSD +  500GB HDD',\n",
       "       '256GB SSD +  2TB HDD', '1TB SSD +  1TB HDD', '64GB SSD',\n",
       "       '128GB Flash Storage', '256GB SSD +  1.0TB Hybrid', '32GB SSD',\n",
       "       '512GB Flash Storage', '240GB SSD', '256GB SSD +  256GB SSD',\n",
       "       '16GB SSD', '8GB SSD', '64GB Flash Storage +  1TB HDD',\n",
       "       '1.0TB HDD', '1TB HDD +  1TB HDD', '512GB SSD +  512GB SSD',\n",
       "       '128GB SSD +  2TB HDD', '32GB HDD', '512GB SSD +  1.0TB Hybrid'],\n",
       "      dtype=object)"
      ]
     },
     "execution_count": 3,
     "metadata": {},
     "output_type": "execute_result"
    }
   ],
   "source": [
    "df['Memory'].unique()"
   ]
  },
  {
   "cell_type": "code",
   "execution_count": 229,
   "metadata": {},
   "outputs": [],
   "source": [
    "# df.describe(include='all')"
   ]
  },
  {
   "cell_type": "code",
   "execution_count": 3,
   "metadata": {},
   "outputs": [],
   "source": [
    "df['Ram']=df['Ram'].str.replace('GB','').astype(int)\n",
    "df['Weight']=df['Weight'].str.replace('kg','').astype(float)"
   ]
  },
  {
   "cell_type": "code",
   "execution_count": 4,
   "metadata": {},
   "outputs": [
    {
     "name": "stderr",
     "output_type": "stream",
     "text": [
      "C:\\Users\\Agui\\AppData\\Local\\Temp\\ipykernel_10856\\2094320187.py:1: SettingWithCopyWarning: \n",
      "A value is trying to be set on a copy of a slice from a DataFrame\n",
      "\n",
      "See the caveats in the documentation: https://pandas.pydata.org/pandas-docs/stable/user_guide/indexing.html#returning-a-view-versus-a-copy\n",
      "  df['OpSys'][df['OpSys']=='Windows 10 S']='Windows 10'\n",
      "C:\\Users\\Agui\\AppData\\Local\\Temp\\ipykernel_10856\\2094320187.py:2: SettingWithCopyWarning: \n",
      "A value is trying to be set on a copy of a slice from a DataFrame\n",
      "\n",
      "See the caveats in the documentation: https://pandas.pydata.org/pandas-docs/stable/user_guide/indexing.html#returning-a-view-versus-a-copy\n",
      "  df['OpSys'][df['OpSys']=='Mac OS X']='macOS'\n"
     ]
    }
   ],
   "source": [
    "df['OpSys'][df['OpSys']=='Windows 10 S']='Windows 10'\n",
    "df['OpSys'][df['OpSys']=='Mac OS X']='macOS'"
   ]
  },
  {
   "cell_type": "code",
   "execution_count": 111,
   "metadata": {},
   "outputs": [
    {
     "data": {
      "text/plain": [
       "array(['Windows 10', 'Windows 7', 'Linux', 'Chrome OS', 'No OS', 'macOS',\n",
       "       'Android'], dtype=object)"
      ]
     },
     "execution_count": 111,
     "metadata": {},
     "output_type": "execute_result"
    }
   ],
   "source": [
    "df['OpSys'].unique()"
   ]
  },
  {
   "cell_type": "code",
   "execution_count": 5,
   "metadata": {},
   "outputs": [],
   "source": [
    "df = pd.concat([df, pd.get_dummies(df['OpSys'], prefix='OpSys')], axis=1)\n",
    "\n",
    "df = df.drop('OpSys', axis=1)"
   ]
  },
  {
   "cell_type": "code",
   "execution_count": 6,
   "metadata": {},
   "outputs": [],
   "source": [
    "matches = df['Memory'].str.extractall(r'(\\d+)\\s?([GT]B)').reset_index()\n",
    "matches.columns = ['level_0', 'match', 'Capacity', 'Unit']\n",
    "\n",
    "matches['Total_GB'] = matches['Capacity'].astype(float) * matches['Unit'].replace({'GB': 1, 'TB': 1000}).fillna(1)\n",
    "\n",
    "df['Total_GB'] = matches.groupby('level_0')['Total_GB'].sum()\n",
    "\n",
    "df['Storage_Type'] = df['Memory'].str.extract(r'(SSD|HDD)')\n"
   ]
  },
  {
   "cell_type": "code",
   "execution_count": 7,
   "metadata": {},
   "outputs": [
    {
     "data": {
      "text/html": [
       "<div>\n",
       "<style scoped>\n",
       "    .dataframe tbody tr th:only-of-type {\n",
       "        vertical-align: middle;\n",
       "    }\n",
       "\n",
       "    .dataframe tbody tr th {\n",
       "        vertical-align: top;\n",
       "    }\n",
       "\n",
       "    .dataframe thead th {\n",
       "        text-align: right;\n",
       "    }\n",
       "</style>\n",
       "<table border=\"1\" class=\"dataframe\">\n",
       "  <thead>\n",
       "    <tr style=\"text-align: right;\">\n",
       "      <th></th>\n",
       "      <th>Memory</th>\n",
       "      <th>Total_GB</th>\n",
       "      <th>Storage_Type</th>\n",
       "    </tr>\n",
       "  </thead>\n",
       "  <tbody>\n",
       "    <tr>\n",
       "      <th>0</th>\n",
       "      <td>1TB HDD</td>\n",
       "      <td>1000.0</td>\n",
       "      <td>HDD</td>\n",
       "    </tr>\n",
       "    <tr>\n",
       "      <th>1</th>\n",
       "      <td>1TB HDD</td>\n",
       "      <td>1000.0</td>\n",
       "      <td>HDD</td>\n",
       "    </tr>\n",
       "    <tr>\n",
       "      <th>2</th>\n",
       "      <td>256GB SSD</td>\n",
       "      <td>256.0</td>\n",
       "      <td>SSD</td>\n",
       "    </tr>\n",
       "    <tr>\n",
       "      <th>3</th>\n",
       "      <td>256GB SSD +  1TB HDD</td>\n",
       "      <td>1256.0</td>\n",
       "      <td>SSD</td>\n",
       "    </tr>\n",
       "    <tr>\n",
       "      <th>4</th>\n",
       "      <td>256GB SSD</td>\n",
       "      <td>256.0</td>\n",
       "      <td>SSD</td>\n",
       "    </tr>\n",
       "  </tbody>\n",
       "</table>\n",
       "</div>"
      ],
      "text/plain": [
       "                 Memory  Total_GB Storage_Type\n",
       "0               1TB HDD    1000.0          HDD\n",
       "1               1TB HDD    1000.0          HDD\n",
       "2             256GB SSD     256.0          SSD\n",
       "3  256GB SSD +  1TB HDD    1256.0          SSD\n",
       "4             256GB SSD     256.0          SSD"
      ]
     },
     "execution_count": 7,
     "metadata": {},
     "output_type": "execute_result"
    }
   ],
   "source": [
    "df[['Memory','Total_GB','Storage_Type']].head()"
   ]
  },
  {
   "cell_type": "code",
   "execution_count": 34,
   "metadata": {},
   "outputs": [],
   "source": [
    "df.drop(columns='Memory',inplace=True)"
   ]
  },
  {
   "cell_type": "code",
   "execution_count": 35,
   "metadata": {},
   "outputs": [
    {
     "data": {
      "text/plain": [
       "2"
      ]
     },
     "execution_count": 35,
     "metadata": {},
     "output_type": "execute_result"
    }
   ],
   "source": [
    "df['Storage_Type'].nunique()"
   ]
  },
  {
   "cell_type": "code",
   "execution_count": 8,
   "metadata": {},
   "outputs": [
    {
     "data": {
      "text/html": [
       "<div>\n",
       "<style scoped>\n",
       "    .dataframe tbody tr th:only-of-type {\n",
       "        vertical-align: middle;\n",
       "    }\n",
       "\n",
       "    .dataframe tbody tr th {\n",
       "        vertical-align: top;\n",
       "    }\n",
       "\n",
       "    .dataframe thead th {\n",
       "        text-align: right;\n",
       "    }\n",
       "</style>\n",
       "<table border=\"1\" class=\"dataframe\">\n",
       "  <thead>\n",
       "    <tr style=\"text-align: right;\">\n",
       "      <th></th>\n",
       "      <th>id</th>\n",
       "      <th>laptop_ID</th>\n",
       "      <th>Company</th>\n",
       "      <th>Product</th>\n",
       "      <th>TypeName</th>\n",
       "      <th>Inches</th>\n",
       "      <th>ScreenResolution</th>\n",
       "      <th>Cpu</th>\n",
       "      <th>Ram</th>\n",
       "      <th>Memory</th>\n",
       "      <th>...</th>\n",
       "      <th>OpSys_Android</th>\n",
       "      <th>OpSys_Chrome OS</th>\n",
       "      <th>OpSys_Linux</th>\n",
       "      <th>OpSys_No OS</th>\n",
       "      <th>OpSys_Windows 10</th>\n",
       "      <th>OpSys_Windows 7</th>\n",
       "      <th>OpSys_macOS</th>\n",
       "      <th>Total_GB</th>\n",
       "      <th>Storage_Type</th>\n",
       "      <th>Storage_type_Enc</th>\n",
       "    </tr>\n",
       "  </thead>\n",
       "  <tbody>\n",
       "    <tr>\n",
       "      <th>0</th>\n",
       "      <td>268</td>\n",
       "      <td>1002</td>\n",
       "      <td>Dell</td>\n",
       "      <td>Inspiron 5567</td>\n",
       "      <td>Notebook</td>\n",
       "      <td>15.6</td>\n",
       "      <td>1366x768</td>\n",
       "      <td>Intel Core i7 7500U 2.7GHz</td>\n",
       "      <td>8</td>\n",
       "      <td>1TB HDD</td>\n",
       "      <td>...</td>\n",
       "      <td>False</td>\n",
       "      <td>False</td>\n",
       "      <td>False</td>\n",
       "      <td>False</td>\n",
       "      <td>True</td>\n",
       "      <td>False</td>\n",
       "      <td>False</td>\n",
       "      <td>1000.0</td>\n",
       "      <td>HDD</td>\n",
       "      <td>0</td>\n",
       "    </tr>\n",
       "    <tr>\n",
       "      <th>1</th>\n",
       "      <td>347</td>\n",
       "      <td>867</td>\n",
       "      <td>Asus</td>\n",
       "      <td>X541NA (N4200/4GB/1TB/W10)</td>\n",
       "      <td>Notebook</td>\n",
       "      <td>15.6</td>\n",
       "      <td>1366x768</td>\n",
       "      <td>Intel Pentium Quad Core N4200 1.1GHz</td>\n",
       "      <td>4</td>\n",
       "      <td>1TB HDD</td>\n",
       "      <td>...</td>\n",
       "      <td>False</td>\n",
       "      <td>False</td>\n",
       "      <td>False</td>\n",
       "      <td>False</td>\n",
       "      <td>True</td>\n",
       "      <td>False</td>\n",
       "      <td>False</td>\n",
       "      <td>1000.0</td>\n",
       "      <td>HDD</td>\n",
       "      <td>0</td>\n",
       "    </tr>\n",
       "    <tr>\n",
       "      <th>2</th>\n",
       "      <td>353</td>\n",
       "      <td>966</td>\n",
       "      <td>Toshiba</td>\n",
       "      <td>Portege Z30-C-1CW</td>\n",
       "      <td>Notebook</td>\n",
       "      <td>13.3</td>\n",
       "      <td>Full HD 1920x1080</td>\n",
       "      <td>Intel Core i5 6200U 2.3GHz</td>\n",
       "      <td>8</td>\n",
       "      <td>256GB SSD</td>\n",
       "      <td>...</td>\n",
       "      <td>False</td>\n",
       "      <td>False</td>\n",
       "      <td>False</td>\n",
       "      <td>False</td>\n",
       "      <td>False</td>\n",
       "      <td>True</td>\n",
       "      <td>False</td>\n",
       "      <td>256.0</td>\n",
       "      <td>SSD</td>\n",
       "      <td>1</td>\n",
       "    </tr>\n",
       "    <tr>\n",
       "      <th>3</th>\n",
       "      <td>578</td>\n",
       "      <td>767</td>\n",
       "      <td>Dell</td>\n",
       "      <td>Alienware 17</td>\n",
       "      <td>Gaming</td>\n",
       "      <td>15.6</td>\n",
       "      <td>IPS Panel 4K Ultra HD 3840x2160</td>\n",
       "      <td>Intel Core i7 7700HQ 2.8GHz</td>\n",
       "      <td>16</td>\n",
       "      <td>256GB SSD +  1TB HDD</td>\n",
       "      <td>...</td>\n",
       "      <td>False</td>\n",
       "      <td>False</td>\n",
       "      <td>False</td>\n",
       "      <td>False</td>\n",
       "      <td>True</td>\n",
       "      <td>False</td>\n",
       "      <td>False</td>\n",
       "      <td>1256.0</td>\n",
       "      <td>SSD</td>\n",
       "      <td>1</td>\n",
       "    </tr>\n",
       "    <tr>\n",
       "      <th>4</th>\n",
       "      <td>42</td>\n",
       "      <td>1241</td>\n",
       "      <td>Dell</td>\n",
       "      <td>Latitude E7270</td>\n",
       "      <td>Ultrabook</td>\n",
       "      <td>12.5</td>\n",
       "      <td>Full HD / Touchscreen 1920x1080</td>\n",
       "      <td>Intel Core i5 6300U 2.4GHz</td>\n",
       "      <td>8</td>\n",
       "      <td>256GB SSD</td>\n",
       "      <td>...</td>\n",
       "      <td>False</td>\n",
       "      <td>False</td>\n",
       "      <td>False</td>\n",
       "      <td>False</td>\n",
       "      <td>False</td>\n",
       "      <td>True</td>\n",
       "      <td>False</td>\n",
       "      <td>256.0</td>\n",
       "      <td>SSD</td>\n",
       "      <td>1</td>\n",
       "    </tr>\n",
       "  </tbody>\n",
       "</table>\n",
       "<p>5 rows × 23 columns</p>\n",
       "</div>"
      ],
      "text/plain": [
       "    id  laptop_ID  Company                     Product   TypeName  Inches  \\\n",
       "0  268       1002     Dell               Inspiron 5567   Notebook    15.6   \n",
       "1  347        867     Asus  X541NA (N4200/4GB/1TB/W10)   Notebook    15.6   \n",
       "2  353        966  Toshiba           Portege Z30-C-1CW   Notebook    13.3   \n",
       "3  578        767     Dell                Alienware 17     Gaming    15.6   \n",
       "4   42       1241     Dell              Latitude E7270  Ultrabook    12.5   \n",
       "\n",
       "                  ScreenResolution                                   Cpu  Ram  \\\n",
       "0                         1366x768            Intel Core i7 7500U 2.7GHz    8   \n",
       "1                         1366x768  Intel Pentium Quad Core N4200 1.1GHz    4   \n",
       "2                Full HD 1920x1080            Intel Core i5 6200U 2.3GHz    8   \n",
       "3  IPS Panel 4K Ultra HD 3840x2160           Intel Core i7 7700HQ 2.8GHz   16   \n",
       "4  Full HD / Touchscreen 1920x1080            Intel Core i5 6300U 2.4GHz    8   \n",
       "\n",
       "                 Memory  ... OpSys_Android  OpSys_Chrome OS  OpSys_Linux  \\\n",
       "0               1TB HDD  ...         False            False        False   \n",
       "1               1TB HDD  ...         False            False        False   \n",
       "2             256GB SSD  ...         False            False        False   \n",
       "3  256GB SSD +  1TB HDD  ...         False            False        False   \n",
       "4             256GB SSD  ...         False            False        False   \n",
       "\n",
       "   OpSys_No OS  OpSys_Windows 10  OpSys_Windows 7  OpSys_macOS  Total_GB  \\\n",
       "0        False              True            False        False    1000.0   \n",
       "1        False              True            False        False    1000.0   \n",
       "2        False             False             True        False     256.0   \n",
       "3        False              True            False        False    1256.0   \n",
       "4        False             False             True        False     256.0   \n",
       "\n",
       "   Storage_Type  Storage_type_Enc  \n",
       "0           HDD                 0  \n",
       "1           HDD                 0  \n",
       "2           SSD                 1  \n",
       "3           SSD                 1  \n",
       "4           SSD                 1  \n",
       "\n",
       "[5 rows x 23 columns]"
      ]
     },
     "execution_count": 8,
     "metadata": {},
     "output_type": "execute_result"
    }
   ],
   "source": [
    "from sklearn.preprocessing import LabelEncoder\n",
    "\n",
    "le= LabelEncoder()\n",
    "\n",
    "le.fit(df['Storage_Type'])\n",
    "df['Storage_type_Enc']= le.transform(df['Storage_Type'])\n",
    "df.head()"
   ]
  },
  {
   "cell_type": "code",
   "execution_count": 9,
   "metadata": {},
   "outputs": [],
   "source": [
    "df.drop(columns='Storage_Type',inplace=True)"
   ]
  },
  {
   "cell_type": "code",
   "execution_count": 10,
   "metadata": {},
   "outputs": [],
   "source": [
    "df = pd.concat([df, pd.get_dummies(df['Company'], prefix='Company')], axis=1)\n",
    "\n",
    "df = df.drop('Company', axis=1)"
   ]
  },
  {
   "cell_type": "code",
   "execution_count": 11,
   "metadata": {},
   "outputs": [],
   "source": [
    "df.drop(columns='Product',inplace=True)"
   ]
  },
  {
   "cell_type": "code",
   "execution_count": 40,
   "metadata": {},
   "outputs": [
    {
     "data": {
      "text/html": [
       "<div>\n",
       "<style scoped>\n",
       "    .dataframe tbody tr th:only-of-type {\n",
       "        vertical-align: middle;\n",
       "    }\n",
       "\n",
       "    .dataframe tbody tr th {\n",
       "        vertical-align: top;\n",
       "    }\n",
       "\n",
       "    .dataframe thead th {\n",
       "        text-align: right;\n",
       "    }\n",
       "</style>\n",
       "<table border=\"1\" class=\"dataframe\">\n",
       "  <thead>\n",
       "    <tr style=\"text-align: right;\">\n",
       "      <th></th>\n",
       "      <th>id</th>\n",
       "      <th>laptop_ID</th>\n",
       "      <th>TypeName</th>\n",
       "      <th>Inches</th>\n",
       "      <th>ScreenResolution</th>\n",
       "      <th>Cpu</th>\n",
       "      <th>Ram</th>\n",
       "      <th>Gpu</th>\n",
       "      <th>Weight</th>\n",
       "      <th>Price_euros</th>\n",
       "      <th>...</th>\n",
       "      <th>Company_LG</th>\n",
       "      <th>Company_Lenovo</th>\n",
       "      <th>Company_MSI</th>\n",
       "      <th>Company_Mediacom</th>\n",
       "      <th>Company_Microsoft</th>\n",
       "      <th>Company_Razer</th>\n",
       "      <th>Company_Samsung</th>\n",
       "      <th>Company_Toshiba</th>\n",
       "      <th>Company_Vero</th>\n",
       "      <th>Company_Xiaomi</th>\n",
       "    </tr>\n",
       "  </thead>\n",
       "  <tbody>\n",
       "    <tr>\n",
       "      <th>0</th>\n",
       "      <td>268</td>\n",
       "      <td>1002</td>\n",
       "      <td>Notebook</td>\n",
       "      <td>15.6</td>\n",
       "      <td>1366x768</td>\n",
       "      <td>Intel Core i7 7500U 2.7GHz</td>\n",
       "      <td>8</td>\n",
       "      <td>AMD Radeon R7 M445</td>\n",
       "      <td>2.36</td>\n",
       "      <td>749.00</td>\n",
       "      <td>...</td>\n",
       "      <td>False</td>\n",
       "      <td>False</td>\n",
       "      <td>False</td>\n",
       "      <td>False</td>\n",
       "      <td>False</td>\n",
       "      <td>False</td>\n",
       "      <td>False</td>\n",
       "      <td>False</td>\n",
       "      <td>False</td>\n",
       "      <td>False</td>\n",
       "    </tr>\n",
       "    <tr>\n",
       "      <th>1</th>\n",
       "      <td>347</td>\n",
       "      <td>867</td>\n",
       "      <td>Notebook</td>\n",
       "      <td>15.6</td>\n",
       "      <td>1366x768</td>\n",
       "      <td>Intel Pentium Quad Core N4200 1.1GHz</td>\n",
       "      <td>4</td>\n",
       "      <td>Intel HD Graphics 505</td>\n",
       "      <td>2.00</td>\n",
       "      <td>449.00</td>\n",
       "      <td>...</td>\n",
       "      <td>False</td>\n",
       "      <td>False</td>\n",
       "      <td>False</td>\n",
       "      <td>False</td>\n",
       "      <td>False</td>\n",
       "      <td>False</td>\n",
       "      <td>False</td>\n",
       "      <td>False</td>\n",
       "      <td>False</td>\n",
       "      <td>False</td>\n",
       "    </tr>\n",
       "    <tr>\n",
       "      <th>2</th>\n",
       "      <td>353</td>\n",
       "      <td>966</td>\n",
       "      <td>Notebook</td>\n",
       "      <td>13.3</td>\n",
       "      <td>Full HD 1920x1080</td>\n",
       "      <td>Intel Core i5 6200U 2.3GHz</td>\n",
       "      <td>8</td>\n",
       "      <td>Intel HD Graphics 520</td>\n",
       "      <td>1.20</td>\n",
       "      <td>1460.00</td>\n",
       "      <td>...</td>\n",
       "      <td>False</td>\n",
       "      <td>False</td>\n",
       "      <td>False</td>\n",
       "      <td>False</td>\n",
       "      <td>False</td>\n",
       "      <td>False</td>\n",
       "      <td>False</td>\n",
       "      <td>True</td>\n",
       "      <td>False</td>\n",
       "      <td>False</td>\n",
       "    </tr>\n",
       "    <tr>\n",
       "      <th>3</th>\n",
       "      <td>578</td>\n",
       "      <td>767</td>\n",
       "      <td>Gaming</td>\n",
       "      <td>15.6</td>\n",
       "      <td>IPS Panel 4K Ultra HD 3840x2160</td>\n",
       "      <td>Intel Core i7 7700HQ 2.8GHz</td>\n",
       "      <td>16</td>\n",
       "      <td>Nvidia GeForce GTX 1070</td>\n",
       "      <td>4.42</td>\n",
       "      <td>2868.99</td>\n",
       "      <td>...</td>\n",
       "      <td>False</td>\n",
       "      <td>False</td>\n",
       "      <td>False</td>\n",
       "      <td>False</td>\n",
       "      <td>False</td>\n",
       "      <td>False</td>\n",
       "      <td>False</td>\n",
       "      <td>False</td>\n",
       "      <td>False</td>\n",
       "      <td>False</td>\n",
       "    </tr>\n",
       "    <tr>\n",
       "      <th>4</th>\n",
       "      <td>42</td>\n",
       "      <td>1241</td>\n",
       "      <td>Ultrabook</td>\n",
       "      <td>12.5</td>\n",
       "      <td>Full HD / Touchscreen 1920x1080</td>\n",
       "      <td>Intel Core i5 6300U 2.4GHz</td>\n",
       "      <td>8</td>\n",
       "      <td>Intel HD Graphics 520</td>\n",
       "      <td>1.26</td>\n",
       "      <td>1713.37</td>\n",
       "      <td>...</td>\n",
       "      <td>False</td>\n",
       "      <td>False</td>\n",
       "      <td>False</td>\n",
       "      <td>False</td>\n",
       "      <td>False</td>\n",
       "      <td>False</td>\n",
       "      <td>False</td>\n",
       "      <td>False</td>\n",
       "      <td>False</td>\n",
       "      <td>False</td>\n",
       "    </tr>\n",
       "  </tbody>\n",
       "</table>\n",
       "<p>5 rows × 38 columns</p>\n",
       "</div>"
      ],
      "text/plain": [
       "    id  laptop_ID   TypeName  Inches                 ScreenResolution  \\\n",
       "0  268       1002   Notebook    15.6                         1366x768   \n",
       "1  347        867   Notebook    15.6                         1366x768   \n",
       "2  353        966   Notebook    13.3                Full HD 1920x1080   \n",
       "3  578        767     Gaming    15.6  IPS Panel 4K Ultra HD 3840x2160   \n",
       "4   42       1241  Ultrabook    12.5  Full HD / Touchscreen 1920x1080   \n",
       "\n",
       "                                    Cpu  Ram                      Gpu  Weight  \\\n",
       "0            Intel Core i7 7500U 2.7GHz    8       AMD Radeon R7 M445    2.36   \n",
       "1  Intel Pentium Quad Core N4200 1.1GHz    4    Intel HD Graphics 505    2.00   \n",
       "2            Intel Core i5 6200U 2.3GHz    8    Intel HD Graphics 520    1.20   \n",
       "3           Intel Core i7 7700HQ 2.8GHz   16  Nvidia GeForce GTX 1070    4.42   \n",
       "4            Intel Core i5 6300U 2.4GHz    8    Intel HD Graphics 520    1.26   \n",
       "\n",
       "   Price_euros  ...  Company_LG  Company_Lenovo  Company_MSI  \\\n",
       "0       749.00  ...       False           False        False   \n",
       "1       449.00  ...       False           False        False   \n",
       "2      1460.00  ...       False           False        False   \n",
       "3      2868.99  ...       False           False        False   \n",
       "4      1713.37  ...       False           False        False   \n",
       "\n",
       "   Company_Mediacom  Company_Microsoft  Company_Razer  Company_Samsung  \\\n",
       "0             False              False          False            False   \n",
       "1             False              False          False            False   \n",
       "2             False              False          False            False   \n",
       "3             False              False          False            False   \n",
       "4             False              False          False            False   \n",
       "\n",
       "   Company_Toshiba  Company_Vero  Company_Xiaomi  \n",
       "0            False         False           False  \n",
       "1            False         False           False  \n",
       "2             True         False           False  \n",
       "3            False         False           False  \n",
       "4            False         False           False  \n",
       "\n",
       "[5 rows x 38 columns]"
      ]
     },
     "execution_count": 40,
     "metadata": {},
     "output_type": "execute_result"
    }
   ],
   "source": [
    "df.head()"
   ]
  },
  {
   "cell_type": "code",
   "execution_count": 12,
   "metadata": {},
   "outputs": [],
   "source": [
    "df = pd.concat([df, pd.get_dummies(df['TypeName'], prefix='TypeName')], axis=1)\n",
    "\n",
    "df = df.drop('TypeName', axis=1)"
   ]
  },
  {
   "cell_type": "code",
   "execution_count": 13,
   "metadata": {},
   "outputs": [],
   "source": [
    "df['ResolutionHeight'] = df['ScreenResolution'].str.extract(r'\\d+x(\\d+)')\n",
    "# df.head()"
   ]
  },
  {
   "cell_type": "code",
   "execution_count": 14,
   "metadata": {},
   "outputs": [],
   "source": [
    "df = df.drop('ScreenResolution', axis=1)"
   ]
  },
  {
   "cell_type": "code",
   "execution_count": 99,
   "metadata": {},
   "outputs": [
    {
     "data": {
      "text/plain": [
       "104"
      ]
     },
     "execution_count": 99,
     "metadata": {},
     "output_type": "execute_result"
    }
   ],
   "source": [
    "# df['Product'].nunique()\n",
    "# df['ScreenResolution'].unique()\n",
    "df['Cpu'].nunique()\n",
    "# df['Ram'].unique() #replace\n",
    "# df['Memory'].unique()\n",
    "# df['Gpu'].unique()\n",
    "# df['OpSys'].unique()\n",
    "# df['Weight'].unique() #replace\n",
    "# df['Company'].unique()\n",
    "# len(df)"
   ]
  },
  {
   "cell_type": "code",
   "execution_count": 102,
   "metadata": {},
   "outputs": [],
   "source": [
    "# df['Cpu'].unique()"
   ]
  },
  {
   "cell_type": "code",
   "execution_count": 15,
   "metadata": {},
   "outputs": [],
   "source": [
    "df['CPU_Type'] = df['Cpu'].str.extract(r'(\\bIntel\\b|\\bAMD\\b|\\bCore\\s[^\\d]+)')\n",
    "df['Speed_GHz'] = df['Cpu'].str.extract(r'(\\d+\\.\\d+)GHz')"
   ]
  },
  {
   "cell_type": "code",
   "execution_count": 16,
   "metadata": {},
   "outputs": [
    {
     "data": {
      "text/html": [
       "<div>\n",
       "<style scoped>\n",
       "    .dataframe tbody tr th:only-of-type {\n",
       "        vertical-align: middle;\n",
       "    }\n",
       "\n",
       "    .dataframe tbody tr th {\n",
       "        vertical-align: top;\n",
       "    }\n",
       "\n",
       "    .dataframe thead th {\n",
       "        text-align: right;\n",
       "    }\n",
       "</style>\n",
       "<table border=\"1\" class=\"dataframe\">\n",
       "  <thead>\n",
       "    <tr style=\"text-align: right;\">\n",
       "      <th></th>\n",
       "      <th>Cpu</th>\n",
       "      <th>CPU_Type</th>\n",
       "      <th>Speed_GHz</th>\n",
       "    </tr>\n",
       "  </thead>\n",
       "  <tbody>\n",
       "    <tr>\n",
       "      <th>0</th>\n",
       "      <td>Intel Core i7 7500U 2.7GHz</td>\n",
       "      <td>Intel</td>\n",
       "      <td>2.7</td>\n",
       "    </tr>\n",
       "    <tr>\n",
       "      <th>1</th>\n",
       "      <td>Intel Pentium Quad Core N4200 1.1GHz</td>\n",
       "      <td>Intel</td>\n",
       "      <td>1.1</td>\n",
       "    </tr>\n",
       "    <tr>\n",
       "      <th>2</th>\n",
       "      <td>Intel Core i5 6200U 2.3GHz</td>\n",
       "      <td>Intel</td>\n",
       "      <td>2.3</td>\n",
       "    </tr>\n",
       "    <tr>\n",
       "      <th>3</th>\n",
       "      <td>Intel Core i7 7700HQ 2.8GHz</td>\n",
       "      <td>Intel</td>\n",
       "      <td>2.8</td>\n",
       "    </tr>\n",
       "    <tr>\n",
       "      <th>4</th>\n",
       "      <td>Intel Core i5 6300U 2.4GHz</td>\n",
       "      <td>Intel</td>\n",
       "      <td>2.4</td>\n",
       "    </tr>\n",
       "    <tr>\n",
       "      <th>...</th>\n",
       "      <td>...</td>\n",
       "      <td>...</td>\n",
       "      <td>...</td>\n",
       "    </tr>\n",
       "    <tr>\n",
       "      <th>907</th>\n",
       "      <td>Intel Celeron Dual Core N3060 1.6GHz</td>\n",
       "      <td>Intel</td>\n",
       "      <td>1.6</td>\n",
       "    </tr>\n",
       "    <tr>\n",
       "      <th>908</th>\n",
       "      <td>Intel Core i5 6200U 2.3GHz</td>\n",
       "      <td>Intel</td>\n",
       "      <td>2.3</td>\n",
       "    </tr>\n",
       "    <tr>\n",
       "      <th>909</th>\n",
       "      <td>AMD A8-Series 7410 2.2GHz</td>\n",
       "      <td>AMD</td>\n",
       "      <td>2.2</td>\n",
       "    </tr>\n",
       "    <tr>\n",
       "      <th>910</th>\n",
       "      <td>Intel Core i7 7600U 2.8GHz</td>\n",
       "      <td>Intel</td>\n",
       "      <td>2.8</td>\n",
       "    </tr>\n",
       "    <tr>\n",
       "      <th>911</th>\n",
       "      <td>Intel Core i7 7500U 2.7GHz</td>\n",
       "      <td>Intel</td>\n",
       "      <td>2.7</td>\n",
       "    </tr>\n",
       "  </tbody>\n",
       "</table>\n",
       "<p>912 rows × 3 columns</p>\n",
       "</div>"
      ],
      "text/plain": [
       "                                      Cpu CPU_Type Speed_GHz\n",
       "0              Intel Core i7 7500U 2.7GHz    Intel       2.7\n",
       "1    Intel Pentium Quad Core N4200 1.1GHz    Intel       1.1\n",
       "2              Intel Core i5 6200U 2.3GHz    Intel       2.3\n",
       "3             Intel Core i7 7700HQ 2.8GHz    Intel       2.8\n",
       "4              Intel Core i5 6300U 2.4GHz    Intel       2.4\n",
       "..                                    ...      ...       ...\n",
       "907  Intel Celeron Dual Core N3060 1.6GHz    Intel       1.6\n",
       "908            Intel Core i5 6200U 2.3GHz    Intel       2.3\n",
       "909             AMD A8-Series 7410 2.2GHz      AMD       2.2\n",
       "910            Intel Core i7 7600U 2.8GHz    Intel       2.8\n",
       "911            Intel Core i7 7500U 2.7GHz    Intel       2.7\n",
       "\n",
       "[912 rows x 3 columns]"
      ]
     },
     "execution_count": 16,
     "metadata": {},
     "output_type": "execute_result"
    }
   ],
   "source": [
    "df[['Cpu','CPU_Type','Speed_GHz']]\n",
    "# df[df['CPU_Type'].notnull()]"
   ]
  },
  {
   "cell_type": "code",
   "execution_count": 17,
   "metadata": {},
   "outputs": [],
   "source": [
    "df = df.drop('Cpu', axis=1)"
   ]
  },
  {
   "cell_type": "code",
   "execution_count": 127,
   "metadata": {},
   "outputs": [
    {
     "data": {
      "text/html": [
       "<div>\n",
       "<style scoped>\n",
       "    .dataframe tbody tr th:only-of-type {\n",
       "        vertical-align: middle;\n",
       "    }\n",
       "\n",
       "    .dataframe tbody tr th {\n",
       "        vertical-align: top;\n",
       "    }\n",
       "\n",
       "    .dataframe thead th {\n",
       "        text-align: right;\n",
       "    }\n",
       "</style>\n",
       "<table border=\"1\" class=\"dataframe\">\n",
       "  <thead>\n",
       "    <tr style=\"text-align: right;\">\n",
       "      <th></th>\n",
       "      <th>id</th>\n",
       "      <th>laptop_ID</th>\n",
       "      <th>Inches</th>\n",
       "      <th>Ram</th>\n",
       "      <th>Gpu</th>\n",
       "      <th>Weight</th>\n",
       "      <th>Price_euros</th>\n",
       "      <th>OpSys_Android</th>\n",
       "      <th>OpSys_Chrome OS</th>\n",
       "      <th>OpSys_Linux</th>\n",
       "      <th>...</th>\n",
       "      <th>Company_Xiaomi</th>\n",
       "      <th>TypeName_2 in 1 Convertible</th>\n",
       "      <th>TypeName_Gaming</th>\n",
       "      <th>TypeName_Netbook</th>\n",
       "      <th>TypeName_Notebook</th>\n",
       "      <th>TypeName_Ultrabook</th>\n",
       "      <th>TypeName_Workstation</th>\n",
       "      <th>ResolutionHeight</th>\n",
       "      <th>CPU_Type</th>\n",
       "      <th>Speed_GHz</th>\n",
       "    </tr>\n",
       "  </thead>\n",
       "  <tbody>\n",
       "    <tr>\n",
       "      <th>0</th>\n",
       "      <td>268</td>\n",
       "      <td>1002</td>\n",
       "      <td>15.6</td>\n",
       "      <td>8</td>\n",
       "      <td>AMD Radeon R7 M445</td>\n",
       "      <td>2.36</td>\n",
       "      <td>749.00</td>\n",
       "      <td>False</td>\n",
       "      <td>False</td>\n",
       "      <td>False</td>\n",
       "      <td>...</td>\n",
       "      <td>False</td>\n",
       "      <td>False</td>\n",
       "      <td>False</td>\n",
       "      <td>False</td>\n",
       "      <td>True</td>\n",
       "      <td>False</td>\n",
       "      <td>False</td>\n",
       "      <td>768</td>\n",
       "      <td>Intel</td>\n",
       "      <td>2.7</td>\n",
       "    </tr>\n",
       "    <tr>\n",
       "      <th>1</th>\n",
       "      <td>347</td>\n",
       "      <td>867</td>\n",
       "      <td>15.6</td>\n",
       "      <td>4</td>\n",
       "      <td>Intel HD Graphics 505</td>\n",
       "      <td>2.00</td>\n",
       "      <td>449.00</td>\n",
       "      <td>False</td>\n",
       "      <td>False</td>\n",
       "      <td>False</td>\n",
       "      <td>...</td>\n",
       "      <td>False</td>\n",
       "      <td>False</td>\n",
       "      <td>False</td>\n",
       "      <td>False</td>\n",
       "      <td>True</td>\n",
       "      <td>False</td>\n",
       "      <td>False</td>\n",
       "      <td>768</td>\n",
       "      <td>Intel</td>\n",
       "      <td>1.1</td>\n",
       "    </tr>\n",
       "    <tr>\n",
       "      <th>2</th>\n",
       "      <td>353</td>\n",
       "      <td>966</td>\n",
       "      <td>13.3</td>\n",
       "      <td>8</td>\n",
       "      <td>Intel HD Graphics 520</td>\n",
       "      <td>1.20</td>\n",
       "      <td>1460.00</td>\n",
       "      <td>False</td>\n",
       "      <td>False</td>\n",
       "      <td>False</td>\n",
       "      <td>...</td>\n",
       "      <td>False</td>\n",
       "      <td>False</td>\n",
       "      <td>False</td>\n",
       "      <td>False</td>\n",
       "      <td>True</td>\n",
       "      <td>False</td>\n",
       "      <td>False</td>\n",
       "      <td>1080</td>\n",
       "      <td>Intel</td>\n",
       "      <td>2.3</td>\n",
       "    </tr>\n",
       "    <tr>\n",
       "      <th>3</th>\n",
       "      <td>578</td>\n",
       "      <td>767</td>\n",
       "      <td>15.6</td>\n",
       "      <td>16</td>\n",
       "      <td>Nvidia GeForce GTX 1070</td>\n",
       "      <td>4.42</td>\n",
       "      <td>2868.99</td>\n",
       "      <td>False</td>\n",
       "      <td>False</td>\n",
       "      <td>False</td>\n",
       "      <td>...</td>\n",
       "      <td>False</td>\n",
       "      <td>False</td>\n",
       "      <td>True</td>\n",
       "      <td>False</td>\n",
       "      <td>False</td>\n",
       "      <td>False</td>\n",
       "      <td>False</td>\n",
       "      <td>2160</td>\n",
       "      <td>Intel</td>\n",
       "      <td>2.8</td>\n",
       "    </tr>\n",
       "    <tr>\n",
       "      <th>4</th>\n",
       "      <td>42</td>\n",
       "      <td>1241</td>\n",
       "      <td>12.5</td>\n",
       "      <td>8</td>\n",
       "      <td>Intel HD Graphics 520</td>\n",
       "      <td>1.26</td>\n",
       "      <td>1713.37</td>\n",
       "      <td>False</td>\n",
       "      <td>False</td>\n",
       "      <td>False</td>\n",
       "      <td>...</td>\n",
       "      <td>False</td>\n",
       "      <td>False</td>\n",
       "      <td>False</td>\n",
       "      <td>False</td>\n",
       "      <td>False</td>\n",
       "      <td>True</td>\n",
       "      <td>False</td>\n",
       "      <td>1080</td>\n",
       "      <td>Intel</td>\n",
       "      <td>2.4</td>\n",
       "    </tr>\n",
       "  </tbody>\n",
       "</table>\n",
       "<p>5 rows × 44 columns</p>\n",
       "</div>"
      ],
      "text/plain": [
       "    id  laptop_ID  Inches  Ram                      Gpu  Weight  Price_euros  \\\n",
       "0  268       1002    15.6    8       AMD Radeon R7 M445    2.36       749.00   \n",
       "1  347        867    15.6    4    Intel HD Graphics 505    2.00       449.00   \n",
       "2  353        966    13.3    8    Intel HD Graphics 520    1.20      1460.00   \n",
       "3  578        767    15.6   16  Nvidia GeForce GTX 1070    4.42      2868.99   \n",
       "4   42       1241    12.5    8    Intel HD Graphics 520    1.26      1713.37   \n",
       "\n",
       "   OpSys_Android  OpSys_Chrome OS  OpSys_Linux  ...  Company_Xiaomi  \\\n",
       "0          False            False        False  ...           False   \n",
       "1          False            False        False  ...           False   \n",
       "2          False            False        False  ...           False   \n",
       "3          False            False        False  ...           False   \n",
       "4          False            False        False  ...           False   \n",
       "\n",
       "   TypeName_2 in 1 Convertible  TypeName_Gaming  TypeName_Netbook  \\\n",
       "0                        False            False             False   \n",
       "1                        False            False             False   \n",
       "2                        False            False             False   \n",
       "3                        False             True             False   \n",
       "4                        False            False             False   \n",
       "\n",
       "   TypeName_Notebook  TypeName_Ultrabook  TypeName_Workstation  \\\n",
       "0               True               False                 False   \n",
       "1               True               False                 False   \n",
       "2               True               False                 False   \n",
       "3              False               False                 False   \n",
       "4              False                True                 False   \n",
       "\n",
       "   ResolutionHeight  CPU_Type  Speed_GHz  \n",
       "0               768     Intel        2.7  \n",
       "1               768     Intel        1.1  \n",
       "2              1080     Intel        2.3  \n",
       "3              2160     Intel        2.8  \n",
       "4              1080     Intel        2.4  \n",
       "\n",
       "[5 rows x 44 columns]"
      ]
     },
     "execution_count": 127,
     "metadata": {},
     "output_type": "execute_result"
    }
   ],
   "source": [
    "df.head()"
   ]
  },
  {
   "cell_type": "markdown",
   "metadata": {},
   "source": [
    "## Data exploration"
   ]
  },
  {
   "cell_type": "code",
   "execution_count": 134,
   "metadata": {},
   "outputs": [
    {
     "data": {
      "text/plain": [
       "Index(['id', 'Ram', 'Gpu', 'Weight', 'Price_euros', 'OpSys_Android',\n",
       "       'OpSys_Chrome OS', 'OpSys_Linux', 'OpSys_No OS', 'OpSys_Windows 10',\n",
       "       'OpSys_Windows 7', 'OpSys_macOS', 'Total_GB', 'Storage_type_Enc',\n",
       "       'Company_Acer', 'Company_Apple', 'Company_Asus', 'Company_Chuwi',\n",
       "       'Company_Dell', 'Company_Fujitsu', 'Company_Google', 'Company_HP',\n",
       "       'Company_Huawei', 'Company_LG', 'Company_Lenovo', 'Company_MSI',\n",
       "       'Company_Mediacom', 'Company_Microsoft', 'Company_Razer',\n",
       "       'Company_Samsung', 'Company_Toshiba', 'Company_Vero', 'Company_Xiaomi',\n",
       "       'TypeName_2 in 1 Convertible', 'TypeName_Gaming', 'TypeName_Netbook',\n",
       "       'TypeName_Notebook', 'TypeName_Ultrabook', 'TypeName_Workstation',\n",
       "       'ResolutionHeight', 'CPU_Type', 'Speed_GHz'],\n",
       "      dtype='object')"
      ]
     },
     "execution_count": 134,
     "metadata": {},
     "output_type": "execute_result"
    }
   ],
   "source": [
    "df.columns"
   ]
  },
  {
   "cell_type": "code",
   "execution_count": 143,
   "metadata": {},
   "outputs": [
    {
     "name": "stdout",
     "output_type": "stream",
     "text": [
      "<class 'pandas.core.frame.DataFrame'>\n",
      "RangeIndex: 912 entries, 0 to 911\n",
      "Data columns (total 41 columns):\n",
      " #   Column                       Non-Null Count  Dtype  \n",
      "---  ------                       --------------  -----  \n",
      " 0   id                           912 non-null    int64  \n",
      " 1   Ram                          912 non-null    int32  \n",
      " 2   Weight                       912 non-null    float64\n",
      " 3   Price_euros                  912 non-null    float64\n",
      " 4   OpSys_Android                912 non-null    bool   \n",
      " 5   OpSys_Chrome OS              912 non-null    bool   \n",
      " 6   OpSys_Linux                  912 non-null    bool   \n",
      " 7   OpSys_No OS                  912 non-null    bool   \n",
      " 8   OpSys_Windows 10             912 non-null    bool   \n",
      " 9   OpSys_Windows 7              912 non-null    bool   \n",
      " 10  OpSys_macOS                  912 non-null    bool   \n",
      " 11  Total_GB                     912 non-null    float64\n",
      " 12  Storage_type_Enc             912 non-null    int32  \n",
      " 13  Company_Acer                 912 non-null    bool   \n",
      " 14  Company_Apple                912 non-null    bool   \n",
      " 15  Company_Asus                 912 non-null    bool   \n",
      " 16  Company_Chuwi                912 non-null    bool   \n",
      " 17  Company_Dell                 912 non-null    bool   \n",
      " 18  Company_Fujitsu              912 non-null    bool   \n",
      " 19  Company_Google               912 non-null    bool   \n",
      " 20  Company_HP                   912 non-null    bool   \n",
      " 21  Company_Huawei               912 non-null    bool   \n",
      " 22  Company_LG                   912 non-null    bool   \n",
      " 23  Company_Lenovo               912 non-null    bool   \n",
      " 24  Company_MSI                  912 non-null    bool   \n",
      " 25  Company_Mediacom             912 non-null    bool   \n",
      " 26  Company_Microsoft            912 non-null    bool   \n",
      " 27  Company_Razer                912 non-null    bool   \n",
      " 28  Company_Samsung              912 non-null    bool   \n",
      " 29  Company_Toshiba              912 non-null    bool   \n",
      " 30  Company_Vero                 912 non-null    bool   \n",
      " 31  Company_Xiaomi               912 non-null    bool   \n",
      " 32  TypeName_2 in 1 Convertible  912 non-null    bool   \n",
      " 33  TypeName_Gaming              912 non-null    bool   \n",
      " 34  TypeName_Netbook             912 non-null    bool   \n",
      " 35  TypeName_Notebook            912 non-null    bool   \n",
      " 36  TypeName_Ultrabook           912 non-null    bool   \n",
      " 37  TypeName_Workstation         912 non-null    bool   \n",
      " 38  ResolutionHeight             912 non-null    object \n",
      " 39  CPU_Type                     912 non-null    object \n",
      " 40  Speed_GHz                    851 non-null    object \n",
      "dtypes: bool(32), float64(3), int32(2), int64(1), object(3)\n",
      "memory usage: 85.6+ KB\n"
     ]
    }
   ],
   "source": [
    "df.info()"
   ]
  },
  {
   "cell_type": "code",
   "execution_count": 18,
   "metadata": {},
   "outputs": [],
   "source": [
    "df = pd.get_dummies(df, columns=['CPU_Type'], prefix='CPU_Type')\n"
   ]
  },
  {
   "cell_type": "code",
   "execution_count": 19,
   "metadata": {},
   "outputs": [],
   "source": [
    "df['ResolutionHeight']=df['ResolutionHeight'].astype(int)\n",
    "df['Speed_GHz']=df['Speed_GHz'].astype(float)"
   ]
  },
  {
   "cell_type": "code",
   "execution_count": 149,
   "metadata": {},
   "outputs": [
    {
     "name": "stdout",
     "output_type": "stream",
     "text": [
      "<class 'pandas.core.frame.DataFrame'>\n",
      "RangeIndex: 912 entries, 0 to 911\n",
      "Data columns (total 42 columns):\n",
      " #   Column                       Non-Null Count  Dtype  \n",
      "---  ------                       --------------  -----  \n",
      " 0   id                           912 non-null    int64  \n",
      " 1   Ram                          912 non-null    int32  \n",
      " 2   Weight                       912 non-null    float64\n",
      " 3   Price_euros                  912 non-null    float64\n",
      " 4   OpSys_Android                912 non-null    bool   \n",
      " 5   OpSys_Chrome OS              912 non-null    bool   \n",
      " 6   OpSys_Linux                  912 non-null    bool   \n",
      " 7   OpSys_No OS                  912 non-null    bool   \n",
      " 8   OpSys_Windows 10             912 non-null    bool   \n",
      " 9   OpSys_Windows 7              912 non-null    bool   \n",
      " 10  OpSys_macOS                  912 non-null    bool   \n",
      " 11  Total_GB                     912 non-null    float64\n",
      " 12  Storage_type_Enc             912 non-null    int32  \n",
      " 13  Company_Acer                 912 non-null    bool   \n",
      " 14  Company_Apple                912 non-null    bool   \n",
      " 15  Company_Asus                 912 non-null    bool   \n",
      " 16  Company_Chuwi                912 non-null    bool   \n",
      " 17  Company_Dell                 912 non-null    bool   \n",
      " 18  Company_Fujitsu              912 non-null    bool   \n",
      " 19  Company_Google               912 non-null    bool   \n",
      " 20  Company_HP                   912 non-null    bool   \n",
      " 21  Company_Huawei               912 non-null    bool   \n",
      " 22  Company_LG                   912 non-null    bool   \n",
      " 23  Company_Lenovo               912 non-null    bool   \n",
      " 24  Company_MSI                  912 non-null    bool   \n",
      " 25  Company_Mediacom             912 non-null    bool   \n",
      " 26  Company_Microsoft            912 non-null    bool   \n",
      " 27  Company_Razer                912 non-null    bool   \n",
      " 28  Company_Samsung              912 non-null    bool   \n",
      " 29  Company_Toshiba              912 non-null    bool   \n",
      " 30  Company_Vero                 912 non-null    bool   \n",
      " 31  Company_Xiaomi               912 non-null    bool   \n",
      " 32  TypeName_2 in 1 Convertible  912 non-null    bool   \n",
      " 33  TypeName_Gaming              912 non-null    bool   \n",
      " 34  TypeName_Netbook             912 non-null    bool   \n",
      " 35  TypeName_Notebook            912 non-null    bool   \n",
      " 36  TypeName_Ultrabook           912 non-null    bool   \n",
      " 37  TypeName_Workstation         912 non-null    bool   \n",
      " 38  ResolutionHeight             912 non-null    int32  \n",
      " 39  Speed_GHz                    851 non-null    float64\n",
      " 40  CPU_Type_AMD                 912 non-null    bool   \n",
      " 41  CPU_Type_Intel               912 non-null    bool   \n",
      "dtypes: bool(34), float64(4), int32(3), int64(1)\n",
      "memory usage: 76.7 KB\n"
     ]
    }
   ],
   "source": [
    "df.info()"
   ]
  },
  {
   "cell_type": "code",
   "execution_count": 150,
   "metadata": {},
   "outputs": [
    {
     "data": {
      "text/plain": [
       "Index(['id', 'Ram', 'Weight', 'Price_euros', 'OpSys_Android',\n",
       "       'OpSys_Chrome OS', 'OpSys_Linux', 'OpSys_No OS', 'OpSys_Windows 10',\n",
       "       'OpSys_Windows 7', 'OpSys_macOS', 'Total_GB', 'Storage_type_Enc',\n",
       "       'Company_Acer', 'Company_Apple', 'Company_Asus', 'Company_Chuwi',\n",
       "       'Company_Dell', 'Company_Fujitsu', 'Company_Google', 'Company_HP',\n",
       "       'Company_Huawei', 'Company_LG', 'Company_Lenovo', 'Company_MSI',\n",
       "       'Company_Mediacom', 'Company_Microsoft', 'Company_Razer',\n",
       "       'Company_Samsung', 'Company_Toshiba', 'Company_Vero', 'Company_Xiaomi',\n",
       "       'TypeName_2 in 1 Convertible', 'TypeName_Gaming', 'TypeName_Netbook',\n",
       "       'TypeName_Notebook', 'TypeName_Ultrabook', 'TypeName_Workstation',\n",
       "       'ResolutionHeight', 'Speed_GHz', 'CPU_Type_AMD', 'CPU_Type_Intel'],\n",
       "      dtype='object')"
      ]
     },
     "execution_count": 150,
     "metadata": {},
     "output_type": "execute_result"
    }
   ],
   "source": [
    "df.columns"
   ]
  },
  {
   "cell_type": "code",
   "execution_count": 20,
   "metadata": {},
   "outputs": [],
   "source": [
    "#TRY\n",
    "df.drop(columns='Gpu',inplace=True)"
   ]
  },
  {
   "cell_type": "code",
   "execution_count": 21,
   "metadata": {},
   "outputs": [],
   "source": [
    "df.drop(columns='laptop_ID',inplace=True)"
   ]
  },
  {
   "cell_type": "code",
   "execution_count": 22,
   "metadata": {},
   "outputs": [],
   "source": [
    "df.drop(columns='Inches',inplace=True)"
   ]
  },
  {
   "cell_type": "code",
   "execution_count": 41,
   "metadata": {},
   "outputs": [],
   "source": [
    "# sns.pairplot(df.drop(columns=['id','laptop_ID']))"
   ]
  },
  {
   "cell_type": "code",
   "execution_count": 77,
   "metadata": {},
   "outputs": [],
   "source": [
    "# df.head()\n",
    "# df.groupby('Company')['Price_euros'].mean().sort_values(ascending=False)"
   ]
  },
  {
   "cell_type": "code",
   "execution_count": 54,
   "metadata": {},
   "outputs": [
    {
     "data": {
      "text/plain": [
       "<Axes: >"
      ]
     },
     "execution_count": 54,
     "metadata": {},
     "output_type": "execute_result"
    },
    {
     "data": {
      "image/png": "[encoded data removed]",
      "text/plain": [
       "<Figure size 1000x1000 with 2 Axes>"
      ]
     },
     "metadata": {},
     "output_type": "display_data"
    }
   ],
   "source": [
    "plt.figure(figsize=(10,10))\n",
    "sns.heatmap(df.drop(columns=['id']).corr(),cmap='coolwarm',vmin=-1,vmax=1,)"
   ]
  },
  {
   "cell_type": "markdown",
   "metadata": {},
   "source": [
    "## Data processing"
   ]
  },
  {
   "cell_type": "code",
   "execution_count": null,
   "metadata": {},
   "outputs": [],
   "source": []
  },
  {
   "cell_type": "code",
   "execution_count": 23,
   "metadata": {},
   "outputs": [],
   "source": [
    "df[df.isnull()]\n",
    "df.fillna(0, inplace=True)"
   ]
  },
  {
   "cell_type": "markdown",
   "metadata": {},
   "source": [
    "-----------------------------------------------------------------------------------------------------------------"
   ]
  },
  {
   "cell_type": "markdown",
   "metadata": {},
   "source": [
    "## Pasos que si o si debéis realizar para poder participar en la competición:"
   ]
  },
  {
   "cell_type": "markdown",
   "metadata": {},
   "source": [
    "### 1. Definir X e y"
   ]
  },
  {
   "cell_type": "code",
   "execution_count": 36,
   "metadata": {},
   "outputs": [],
   "source": [
    "X=df.drop(columns=['Price_euros','id'])\n",
    "y=df['Price_euros']"
   ]
  },
  {
   "cell_type": "markdown",
   "metadata": {},
   "source": [
    "Old"
   ]
  },
  {
   "cell_type": "code",
   "execution_count": 39,
   "metadata": {},
   "outputs": [
    {
     "name": "stdout",
     "output_type": "stream",
     "text": [
      "<class 'pandas.core.frame.DataFrame'>\n",
      "RangeIndex: 912 entries, 0 to 911\n",
      "Data columns (total 40 columns):\n",
      " #   Column                       Non-Null Count  Dtype  \n",
      "---  ------                       --------------  -----  \n",
      " 0   Ram                          912 non-null    int32  \n",
      " 1   Weight                       912 non-null    float64\n",
      " 2   OpSys_Android                912 non-null    bool   \n",
      " 3   OpSys_Chrome OS              912 non-null    bool   \n",
      " 4   OpSys_Linux                  912 non-null    bool   \n",
      " 5   OpSys_No OS                  912 non-null    bool   \n",
      " 6   OpSys_Windows 10             912 non-null    bool   \n",
      " 7   OpSys_Windows 7              912 non-null    bool   \n",
      " 8   OpSys_macOS                  912 non-null    bool   \n",
      " 9   Total_GB                     912 non-null    float64\n",
      " 10  Storage_type_Enc             912 non-null    int32  \n",
      " 11  Company_Acer                 912 non-null    bool   \n",
      " 12  Company_Apple                912 non-null    bool   \n",
      " 13  Company_Asus                 912 non-null    bool   \n",
      " 14  Company_Chuwi                912 non-null    bool   \n",
      " 15  Company_Dell                 912 non-null    bool   \n",
      " 16  Company_Fujitsu              912 non-null    bool   \n",
      " 17  Company_Google               912 non-null    bool   \n",
      " 18  Company_HP                   912 non-null    bool   \n",
      " 19  Company_Huawei               912 non-null    bool   \n",
      " 20  Company_LG                   912 non-null    bool   \n",
      " 21  Company_Lenovo               912 non-null    bool   \n",
      " 22  Company_MSI                  912 non-null    bool   \n",
      " 23  Company_Mediacom             912 non-null    bool   \n",
      " 24  Company_Microsoft            912 non-null    bool   \n",
      " 25  Company_Razer                912 non-null    bool   \n",
      " 26  Company_Samsung              912 non-null    bool   \n",
      " 27  Company_Toshiba              912 non-null    bool   \n",
      " 28  Company_Vero                 912 non-null    bool   \n",
      " 29  Company_Xiaomi               912 non-null    bool   \n",
      " 30  TypeName_2 in 1 Convertible  912 non-null    bool   \n",
      " 31  TypeName_Gaming              912 non-null    bool   \n",
      " 32  TypeName_Netbook             912 non-null    bool   \n",
      " 33  TypeName_Notebook            912 non-null    bool   \n",
      " 34  TypeName_Ultrabook           912 non-null    bool   \n",
      " 35  TypeName_Workstation         912 non-null    bool   \n",
      " 36  ResolutionHeight             912 non-null    int32  \n",
      " 37  Speed_GHz                    912 non-null    float64\n",
      " 38  CPU_Type_AMD                 912 non-null    bool   \n",
      " 39  CPU_Type_Intel               912 non-null    bool   \n",
      "dtypes: bool(34), float64(3), int32(3)\n",
      "memory usage: 62.5 KB\n"
     ]
    }
   ],
   "source": [
    "X.info()"
   ]
  },
  {
   "cell_type": "code",
   "execution_count": 37,
   "metadata": {},
   "outputs": [
    {
     "data": {
      "text/html": [
       "<div>\n",
       "<style scoped>\n",
       "    .dataframe tbody tr th:only-of-type {\n",
       "        vertical-align: middle;\n",
       "    }\n",
       "\n",
       "    .dataframe tbody tr th {\n",
       "        vertical-align: top;\n",
       "    }\n",
       "\n",
       "    .dataframe thead th {\n",
       "        text-align: right;\n",
       "    }\n",
       "</style>\n",
       "<table border=\"1\" class=\"dataframe\">\n",
       "  <thead>\n",
       "    <tr style=\"text-align: right;\">\n",
       "      <th></th>\n",
       "      <th>Ram</th>\n",
       "      <th>Weight</th>\n",
       "      <th>OpSys_Android</th>\n",
       "      <th>OpSys_Chrome OS</th>\n",
       "      <th>OpSys_Linux</th>\n",
       "      <th>OpSys_No OS</th>\n",
       "      <th>OpSys_Windows 10</th>\n",
       "      <th>OpSys_Windows 7</th>\n",
       "      <th>OpSys_macOS</th>\n",
       "      <th>Total_GB</th>\n",
       "      <th>...</th>\n",
       "      <th>TypeName_2 in 1 Convertible</th>\n",
       "      <th>TypeName_Gaming</th>\n",
       "      <th>TypeName_Netbook</th>\n",
       "      <th>TypeName_Notebook</th>\n",
       "      <th>TypeName_Ultrabook</th>\n",
       "      <th>TypeName_Workstation</th>\n",
       "      <th>ResolutionHeight</th>\n",
       "      <th>Speed_GHz</th>\n",
       "      <th>CPU_Type_AMD</th>\n",
       "      <th>CPU_Type_Intel</th>\n",
       "    </tr>\n",
       "  </thead>\n",
       "  <tbody>\n",
       "    <tr>\n",
       "      <th>0</th>\n",
       "      <td>8</td>\n",
       "      <td>2.36</td>\n",
       "      <td>False</td>\n",
       "      <td>False</td>\n",
       "      <td>False</td>\n",
       "      <td>False</td>\n",
       "      <td>True</td>\n",
       "      <td>False</td>\n",
       "      <td>False</td>\n",
       "      <td>1000.0</td>\n",
       "      <td>...</td>\n",
       "      <td>False</td>\n",
       "      <td>False</td>\n",
       "      <td>False</td>\n",
       "      <td>True</td>\n",
       "      <td>False</td>\n",
       "      <td>False</td>\n",
       "      <td>768</td>\n",
       "      <td>2.7</td>\n",
       "      <td>False</td>\n",
       "      <td>True</td>\n",
       "    </tr>\n",
       "    <tr>\n",
       "      <th>1</th>\n",
       "      <td>4</td>\n",
       "      <td>2.00</td>\n",
       "      <td>False</td>\n",
       "      <td>False</td>\n",
       "      <td>False</td>\n",
       "      <td>False</td>\n",
       "      <td>True</td>\n",
       "      <td>False</td>\n",
       "      <td>False</td>\n",
       "      <td>1000.0</td>\n",
       "      <td>...</td>\n",
       "      <td>False</td>\n",
       "      <td>False</td>\n",
       "      <td>False</td>\n",
       "      <td>True</td>\n",
       "      <td>False</td>\n",
       "      <td>False</td>\n",
       "      <td>768</td>\n",
       "      <td>1.1</td>\n",
       "      <td>False</td>\n",
       "      <td>True</td>\n",
       "    </tr>\n",
       "    <tr>\n",
       "      <th>2</th>\n",
       "      <td>8</td>\n",
       "      <td>1.20</td>\n",
       "      <td>False</td>\n",
       "      <td>False</td>\n",
       "      <td>False</td>\n",
       "      <td>False</td>\n",
       "      <td>False</td>\n",
       "      <td>True</td>\n",
       "      <td>False</td>\n",
       "      <td>256.0</td>\n",
       "      <td>...</td>\n",
       "      <td>False</td>\n",
       "      <td>False</td>\n",
       "      <td>False</td>\n",
       "      <td>True</td>\n",
       "      <td>False</td>\n",
       "      <td>False</td>\n",
       "      <td>1080</td>\n",
       "      <td>2.3</td>\n",
       "      <td>False</td>\n",
       "      <td>True</td>\n",
       "    </tr>\n",
       "    <tr>\n",
       "      <th>3</th>\n",
       "      <td>16</td>\n",
       "      <td>4.42</td>\n",
       "      <td>False</td>\n",
       "      <td>False</td>\n",
       "      <td>False</td>\n",
       "      <td>False</td>\n",
       "      <td>True</td>\n",
       "      <td>False</td>\n",
       "      <td>False</td>\n",
       "      <td>1256.0</td>\n",
       "      <td>...</td>\n",
       "      <td>False</td>\n",
       "      <td>True</td>\n",
       "      <td>False</td>\n",
       "      <td>False</td>\n",
       "      <td>False</td>\n",
       "      <td>False</td>\n",
       "      <td>2160</td>\n",
       "      <td>2.8</td>\n",
       "      <td>False</td>\n",
       "      <td>True</td>\n",
       "    </tr>\n",
       "    <tr>\n",
       "      <th>4</th>\n",
       "      <td>8</td>\n",
       "      <td>1.26</td>\n",
       "      <td>False</td>\n",
       "      <td>False</td>\n",
       "      <td>False</td>\n",
       "      <td>False</td>\n",
       "      <td>False</td>\n",
       "      <td>True</td>\n",
       "      <td>False</td>\n",
       "      <td>256.0</td>\n",
       "      <td>...</td>\n",
       "      <td>False</td>\n",
       "      <td>False</td>\n",
       "      <td>False</td>\n",
       "      <td>False</td>\n",
       "      <td>True</td>\n",
       "      <td>False</td>\n",
       "      <td>1080</td>\n",
       "      <td>2.4</td>\n",
       "      <td>False</td>\n",
       "      <td>True</td>\n",
       "    </tr>\n",
       "  </tbody>\n",
       "</table>\n",
       "<p>5 rows × 40 columns</p>\n",
       "</div>"
      ],
      "text/plain": [
       "   Ram  Weight  OpSys_Android  OpSys_Chrome OS  OpSys_Linux  OpSys_No OS  \\\n",
       "0    8    2.36          False            False        False        False   \n",
       "1    4    2.00          False            False        False        False   \n",
       "2    8    1.20          False            False        False        False   \n",
       "3   16    4.42          False            False        False        False   \n",
       "4    8    1.26          False            False        False        False   \n",
       "\n",
       "   OpSys_Windows 10  OpSys_Windows 7  OpSys_macOS  Total_GB  ...  \\\n",
       "0              True            False        False    1000.0  ...   \n",
       "1              True            False        False    1000.0  ...   \n",
       "2             False             True        False     256.0  ...   \n",
       "3              True            False        False    1256.0  ...   \n",
       "4             False             True        False     256.0  ...   \n",
       "\n",
       "   TypeName_2 in 1 Convertible  TypeName_Gaming  TypeName_Netbook  \\\n",
       "0                        False            False             False   \n",
       "1                        False            False             False   \n",
       "2                        False            False             False   \n",
       "3                        False             True             False   \n",
       "4                        False            False             False   \n",
       "\n",
       "   TypeName_Notebook  TypeName_Ultrabook  TypeName_Workstation  \\\n",
       "0               True               False                 False   \n",
       "1               True               False                 False   \n",
       "2               True               False                 False   \n",
       "3              False               False                 False   \n",
       "4              False                True                 False   \n",
       "\n",
       "   ResolutionHeight  Speed_GHz  CPU_Type_AMD  CPU_Type_Intel  \n",
       "0               768        2.7         False            True  \n",
       "1               768        1.1         False            True  \n",
       "2              1080        2.3         False            True  \n",
       "3              2160        2.8         False            True  \n",
       "4              1080        2.4         False            True  \n",
       "\n",
       "[5 rows x 40 columns]"
      ]
     },
     "execution_count": 37,
     "metadata": {},
     "output_type": "execute_result"
    }
   ],
   "source": [
    "X.head()"
   ]
  },
  {
   "cell_type": "markdown",
   "metadata": {},
   "source": [
    "### 2. Dividir X_train, X_test, y_train, y_test"
   ]
  },
  {
   "cell_type": "code",
   "execution_count": 25,
   "metadata": {},
   "outputs": [
    {
     "name": "stderr",
     "output_type": "stream",
     "text": [
      "C:\\Users\\Agui\\AppData\\Local\\Temp\\ipykernel_10856\\1807178382.py:5: SettingWithCopyWarning: \n",
      "A value is trying to be set on a copy of a slice from a DataFrame\n",
      "\n",
      "See the caveats in the documentation: https://pandas.pydata.org/pandas-docs/stable/user_guide/indexing.html#returning-a-view-versus-a-copy\n",
      "  test['OpSys'][test['OpSys']=='Windows 10 S']='Windows 10'\n",
      "C:\\Users\\Agui\\AppData\\Local\\Temp\\ipykernel_10856\\1807178382.py:6: SettingWithCopyWarning: \n",
      "A value is trying to be set on a copy of a slice from a DataFrame\n",
      "\n",
      "See the caveats in the documentation: https://pandas.pydata.org/pandas-docs/stable/user_guide/indexing.html#returning-a-view-versus-a-copy\n",
      "  test['OpSys'][test['OpSys']=='Mac OS X']='macOS'\n"
     ]
    }
   ],
   "source": [
    "#REPEATING FOR TEST.CSV\n",
    "test=pd.read_csv('data/test.csv')\n",
    "test['Ram']=test['Ram'].str.replace('GB','').astype(int)\n",
    "test['Weight']=test['Weight'].str.replace('kg','').astype(float)\n",
    "test['OpSys'][test['OpSys']=='Windows 10 S']='Windows 10'\n",
    "test['OpSys'][test['OpSys']=='Mac OS X']='macOS'\n",
    "test = pd.concat([test, pd.get_dummies(test['OpSys'], prefix='OpSys')], axis=1)\n",
    "\n",
    "test = test.drop('OpSys', axis=1)\n",
    "matches2 = test['Memory'].str.extractall(r'(\\d+)\\s?([GT]B)').reset_index()\n",
    "matches2.columns = ['level_0', 'match', 'Capacity', 'Unit']\n",
    "\n",
    "matches2['Total_GB'] = matches2['Capacity'].astype(float) * matches2['Unit'].replace({'GB': 1, 'TB': 1000}).fillna(1)\n",
    "\n",
    "test['Total_GB'] = matches2.groupby('level_0')['Total_GB'].sum()\n",
    "\n",
    "test['Storage_Type'] = test['Memory'].str.extract(r'(SSD|HDD)')\n",
    "\n",
    "le.fit(test['Storage_Type'])\n",
    "test['Storage_type_Enc']= le.transform(test['Storage_Type'])\n",
    "\n",
    "test = pd.concat([test, pd.get_dummies(test['Company'], prefix='Company')], axis=1)\n",
    "test = test.drop('Company', axis=1)\n",
    "\n",
    "test = pd.concat([test, pd.get_dummies(test['TypeName'], prefix='TypeName')], axis=1)\n",
    "test = test.drop('TypeName', axis=1)\n",
    "\n",
    "test['ResolutionHeight'] = test['ScreenResolution'].str.extract(r'\\d+x(\\d+)')\n",
    "# test.head()\n",
    "\n",
    "test['CPU_Type'] = test['Cpu'].str.extract(r'(\\bIntel\\b|\\bAMD\\b|\\bCore\\s[^\\d]+)')\n",
    "test['Speed_GHz'] = test['Cpu'].str.extract(r'(\\d+\\.\\d+)GHz')\n",
    "\n",
    "test = pd.get_dummies(test, columns=['CPU_Type'], prefix='CPU_Type')\n",
    "\n",
    "test['ResolutionHeight']=test['ResolutionHeight'].astype(int)\n",
    "test['Speed_GHz']=test['Speed_GHz'].astype(float)\n",
    "\n",
    "test.fillna(0, inplace=True)"
   ]
  },
  {
   "cell_type": "code",
   "execution_count": 26,
   "metadata": {},
   "outputs": [],
   "source": [
    "test.drop(columns=['Memory','Storage_Type','Product','ScreenResolution','Cpu','laptop_ID','Inches','Gpu'],inplace=True)"
   ]
  },
  {
   "cell_type": "code",
   "execution_count": 27,
   "metadata": {},
   "outputs": [],
   "source": [
    "test.columns\n",
    "new_columns=['OpSys_Android','Company_Fujitsu','Company_Mediacom']\n",
    "test[new_columns] = 0"
   ]
  },
  {
   "cell_type": "code",
   "execution_count": 28,
   "metadata": {},
   "outputs": [],
   "source": [
    "desired_column_order = ['id', 'Ram', 'Weight', 'OpSys_Android',\n",
    "       'OpSys_Chrome OS', 'OpSys_Linux', 'OpSys_No OS', 'OpSys_Windows 10',\n",
    "       'OpSys_Windows 7', 'OpSys_macOS', 'Total_GB', 'Storage_type_Enc',\n",
    "       'Company_Acer', 'Company_Apple', 'Company_Asus', 'Company_Chuwi',\n",
    "       'Company_Dell', 'Company_Fujitsu', 'Company_Google', 'Company_HP',\n",
    "       'Company_Huawei', 'Company_LG', 'Company_Lenovo', 'Company_MSI',\n",
    "       'Company_Mediacom', 'Company_Microsoft', 'Company_Razer',\n",
    "       'Company_Samsung', 'Company_Toshiba', 'Company_Vero', 'Company_Xiaomi',\n",
    "       'TypeName_2 in 1 Convertible', 'TypeName_Gaming', 'TypeName_Netbook',\n",
    "       'TypeName_Notebook', 'TypeName_Ultrabook', 'TypeName_Workstation',\n",
    "       'ResolutionHeight', 'Speed_GHz', 'CPU_Type_AMD', 'CPU_Type_Intel']\n",
    "\n",
    "test = test[desired_column_order]"
   ]
  },
  {
   "cell_type": "code",
   "execution_count": 32,
   "metadata": {},
   "outputs": [
    {
     "data": {
      "text/plain": [
       "(391, 41)"
      ]
     },
     "execution_count": 32,
     "metadata": {},
     "output_type": "execute_result"
    }
   ],
   "source": [
    "test.shape"
   ]
  },
  {
   "cell_type": "code",
   "execution_count": 96,
   "metadata": {},
   "outputs": [],
   "source": [
    "# X_train, X_test, y_train, y_test = model_selection.train_test_split(X, y, test_size=0.2, random_state=42)"
   ]
  },
  {
   "cell_type": "code",
   "execution_count": 34,
   "metadata": {},
   "outputs": [],
   "source": [
    "# print(X_train.shape)\n",
    "# print(X_test.shape)\n",
    "# print(y_train.shape)\n",
    "# print(y_test.shape)"
   ]
  },
  {
   "cell_type": "code",
   "execution_count": 29,
   "metadata": {},
   "outputs": [],
   "source": [
    "Xtt=test.drop(columns=['id'])"
   ]
  },
  {
   "cell_type": "markdown",
   "metadata": {},
   "source": [
    "Prueba de escalar solo no dummies"
   ]
  },
  {
   "cell_type": "code",
   "execution_count": 35,
   "metadata": {},
   "outputs": [
    {
     "data": {
      "text/plain": [
       "Index(['Ram', 'Memory', 'Weight', 'OpSys_Android', 'OpSys_Chrome OS',\n",
       "       'OpSys_Linux', 'OpSys_No OS', 'OpSys_Windows 10', 'OpSys_Windows 7',\n",
       "       'OpSys_macOS', 'Total_GB', 'Storage_type_Enc', 'Company_Acer',\n",
       "       'Company_Apple', 'Company_Asus', 'Company_Chuwi', 'Company_Dell',\n",
       "       'Company_Fujitsu', 'Company_Google', 'Company_HP', 'Company_Huawei',\n",
       "       'Company_LG', 'Company_Lenovo', 'Company_MSI', 'Company_Mediacom',\n",
       "       'Company_Microsoft', 'Company_Razer', 'Company_Samsung',\n",
       "       'Company_Toshiba', 'Company_Vero', 'Company_Xiaomi',\n",
       "       'TypeName_2 in 1 Convertible', 'TypeName_Gaming', 'TypeName_Netbook',\n",
       "       'TypeName_Notebook', 'TypeName_Ultrabook', 'TypeName_Workstation',\n",
       "       'ResolutionHeight', 'Speed_GHz', 'CPU_Type_AMD', 'CPU_Type_Intel'],\n",
       "      dtype='object')"
      ]
     },
     "execution_count": 35,
     "metadata": {},
     "output_type": "execute_result"
    }
   ],
   "source": [
    "X.columns"
   ]
  },
  {
   "cell_type": "code",
   "execution_count": 43,
   "metadata": {},
   "outputs": [],
   "source": [
    "X_scaled=X.copy()\n",
    "Xtt_scaled=Xtt.copy()"
   ]
  },
  {
   "cell_type": "code",
   "execution_count": 40,
   "metadata": {},
   "outputs": [],
   "source": [
    "columnas_escalar=['Ram','Weight','Total_GB','Storage_type_Enc','ResolutionHeight','Speed_GHz']"
   ]
  },
  {
   "cell_type": "code",
   "execution_count": 41,
   "metadata": {},
   "outputs": [],
   "source": [
    "from sklearn.preprocessing import MinMaxScaler\n",
    "\n",
    "scaler=MinMaxScaler() #coloca los valores entre 0 y 1"
   ]
  },
  {
   "cell_type": "code",
   "execution_count": 44,
   "metadata": {},
   "outputs": [],
   "source": [
    "X_scaled[columnas_escalar] = scaler.fit_transform(X[columnas_escalar])\n",
    "Xtt_scaled[columnas_escalar] = scaler.transform(Xtt[columnas_escalar])"
   ]
  },
  {
   "cell_type": "code",
   "execution_count": null,
   "metadata": {},
   "outputs": [],
   "source": [
    "# xtt_scale=scaler.transform(Xtt)"
   ]
  },
  {
   "cell_type": "markdown",
   "metadata": {},
   "source": [
    "### 3. Crear y entrenar el modelo\n"
   ]
  },
  {
   "cell_type": "code",
   "execution_count": 45,
   "metadata": {},
   "outputs": [
    {
     "data": {
      "text/html": [
       "<style>#sk-container-id-1 {color: black;}#sk-container-id-1 pre{padding: 0;}#sk-container-id-1 div.sk-toggleable {background-color: white;}#sk-container-id-1 label.sk-toggleable__label {cursor: pointer;display: block;width: 100%;margin-bottom: 0;padding: 0.3em;box-sizing: border-box;text-align: center;}#sk-container-id-1 label.sk-toggleable__label-arrow:before {content: \"▸\";float: left;margin-right: 0.25em;color: #696969;}#sk-container-id-1 label.sk-toggleable__label-arrow:hover:before {color: black;}#sk-container-id-1 div.sk-estimator:hover label.sk-toggleable__label-arrow:before {color: black;}#sk-container-id-1 div.sk-toggleable__content {max-height: 0;max-width: 0;overflow: hidden;text-align: left;background-color: #f0f8ff;}#sk-container-id-1 div.sk-toggleable__content pre {margin: 0.2em;color: black;border-radius: 0.25em;background-color: #f0f8ff;}#sk-container-id-1 input.sk-toggleable__control:checked~div.sk-toggleable__content {max-height: 200px;max-width: 100%;overflow: auto;}#sk-container-id-1 input.sk-toggleable__control:checked~label.sk-toggleable__label-arrow:before {content: \"▾\";}#sk-container-id-1 div.sk-estimator input.sk-toggleable__control:checked~label.sk-toggleable__label {background-color: #d4ebff;}#sk-container-id-1 div.sk-label input.sk-toggleable__control:checked~label.sk-toggleable__label {background-color: #d4ebff;}#sk-container-id-1 input.sk-hidden--visually {border: 0;clip: rect(1px 1px 1px 1px);clip: rect(1px, 1px, 1px, 1px);height: 1px;margin: -1px;overflow: hidden;padding: 0;position: absolute;width: 1px;}#sk-container-id-1 div.sk-estimator {font-family: monospace;background-color: #f0f8ff;border: 1px dotted black;border-radius: 0.25em;box-sizing: border-box;margin-bottom: 0.5em;}#sk-container-id-1 div.sk-estimator:hover {background-color: #d4ebff;}#sk-container-id-1 div.sk-parallel-item::after {content: \"\";width: 100%;border-bottom: 1px solid gray;flex-grow: 1;}#sk-container-id-1 div.sk-label:hover label.sk-toggleable__label {background-color: #d4ebff;}#sk-container-id-1 div.sk-serial::before {content: \"\";position: absolute;border-left: 1px solid gray;box-sizing: border-box;top: 0;bottom: 0;left: 50%;z-index: 0;}#sk-container-id-1 div.sk-serial {display: flex;flex-direction: column;align-items: center;background-color: white;padding-right: 0.2em;padding-left: 0.2em;position: relative;}#sk-container-id-1 div.sk-item {position: relative;z-index: 1;}#sk-container-id-1 div.sk-parallel {display: flex;align-items: stretch;justify-content: center;background-color: white;position: relative;}#sk-container-id-1 div.sk-item::before, #sk-container-id-1 div.sk-parallel-item::before {content: \"\";position: absolute;border-left: 1px solid gray;box-sizing: border-box;top: 0;bottom: 0;left: 50%;z-index: -1;}#sk-container-id-1 div.sk-parallel-item {display: flex;flex-direction: column;z-index: 1;position: relative;background-color: white;}#sk-container-id-1 div.sk-parallel-item:first-child::after {align-self: flex-end;width: 50%;}#sk-container-id-1 div.sk-parallel-item:last-child::after {align-self: flex-start;width: 50%;}#sk-container-id-1 div.sk-parallel-item:only-child::after {width: 0;}#sk-container-id-1 div.sk-dashed-wrapped {border: 1px dashed gray;margin: 0 0.4em 0.5em 0.4em;box-sizing: border-box;padding-bottom: 0.4em;background-color: white;}#sk-container-id-1 div.sk-label label {font-family: monospace;font-weight: bold;display: inline-block;line-height: 1.2em;}#sk-container-id-1 div.sk-label-container {text-align: center;}#sk-container-id-1 div.sk-container {/* jupyter's `normalize.less` sets `[hidden] { display: none; }` but bootstrap.min.css set `[hidden] { display: none !important; }` so we also need the `!important` here to be able to override the default hidden behavior on the sphinx rendered scikit-learn.org. See: https://github.com/scikit-learn/scikit-learn/issues/21755 */display: inline-block !important;position: relative;}#sk-container-id-1 div.sk-text-repr-fallback {display: none;}</style><div id=\"sk-container-id-1\" class=\"sk-top-container\"><div class=\"sk-text-repr-fallback\"><pre>LinearRegression()</pre><b>In a Jupyter environment, please rerun this cell to show the HTML representation or trust the notebook. <br />On GitHub, the HTML representation is unable to render, please try loading this page with nbviewer.org.</b></div><div class=\"sk-container\" hidden><div class=\"sk-item\"><div class=\"sk-estimator sk-toggleable\"><input class=\"sk-toggleable__control sk-hidden--visually\" id=\"sk-estimator-id-1\" type=\"checkbox\" checked><label for=\"sk-estimator-id-1\" class=\"sk-toggleable__label sk-toggleable__label-arrow\">LinearRegression</label><div class=\"sk-toggleable__content\"><pre>LinearRegression()</pre></div></div></div></div></div>"
      ],
      "text/plain": [
       "LinearRegression()"
      ]
     },
     "execution_count": 45,
     "metadata": {},
     "output_type": "execute_result"
    }
   ],
   "source": [
    "lr = linear_model.LinearRegression()\n",
    "\n",
    "lr.fit(X_scaled, y)"
   ]
  },
  {
   "cell_type": "code",
   "execution_count": 51,
   "metadata": {},
   "outputs": [],
   "source": [
    "from sklearn.linear_model import Ridge\n",
    "\n",
    "ridgeR = Ridge(alpha = 0.6579332246575675)\n",
    "ridgeR.fit(X_scaled, y)\n",
    "\n",
    "predictions_train = ridgeR.predict(Xtt_scaled)\n",
    "# mean_absolute_error(y,predictions_train) "
   ]
  },
  {
   "cell_type": "code",
   "execution_count": 52,
   "metadata": {},
   "outputs": [
    {
     "data": {
      "text/plain": [
       "array([2472.34265083,  617.1228638 ,  340.16870333, 1470.50831071,\n",
       "       1022.24488839, 1692.61521735, 2639.63492092,  519.8939546 ,\n",
       "       4914.57946081, 1440.57062869, 1435.87589177,  600.70685804,\n",
       "        409.77934469,  467.25933206,  457.51789968, 1101.73653652,\n",
       "        893.7920941 , 1492.76205091, 1240.92990329, 1397.52016307,\n",
       "       1687.48026414, 1238.09473202, 1495.46345566, 1218.46818761,\n",
       "       1781.71969295,  794.8422597 ,  881.20848566,  401.14116405,\n",
       "       1226.72850163,  294.64181769, 1251.27257028, 1121.71734483,\n",
       "       1812.15078905,  524.92811389,  588.75161178, 1791.62704612,\n",
       "        918.23751202,  809.51658341, 2975.61728213,  526.08248701,\n",
       "        711.07740297,  865.67202912, 1277.25966166, 1874.56711402,\n",
       "       1269.09952406, 1442.87351877,  478.51272615, 2986.47469136,\n",
       "        225.93608333, 1792.63345596, 1002.96165729, 1002.8823033 ,\n",
       "        968.96344245,  328.71315111, 1209.22969306,  639.94044937,\n",
       "        724.11368555,  430.5197139 ,  921.51075555, 1351.97353098,\n",
       "       1487.39412825, 1252.36503148,  536.13588994, 1166.0566001 ,\n",
       "       1031.16150624, 1324.08976972,  615.83500463, 2090.90130647,\n",
       "        550.50735753, 1933.22571437,  894.99904883, 2698.38841481,\n",
       "       1986.61098534, 1199.74160088, 1097.40546355,  992.3094647 ,\n",
       "        989.03290127,  358.09889115, 1108.89536262,  977.25123266,\n",
       "        342.95603302, 2109.60492091, 1449.10903564,  592.32447386,\n",
       "       1323.33952021, 1505.3089291 , 1928.52332279,  366.20421642,\n",
       "       2719.86372229,  728.01728106,  318.47670144,  283.64677708,\n",
       "       1351.97353098, 1295.53115825, 2255.88029664,  477.57828433,\n",
       "       1975.81478183, 1147.46967626, 1051.9669479 , 1029.30354126,\n",
       "        568.8389208 ,  549.38024113, 1541.14136817, 1357.51347353,\n",
       "       1128.79408854, 1131.39826451,  879.6419967 ,  735.07566093,\n",
       "       1437.40797636, 1243.10151762, 1108.65528998, 1050.70766193,\n",
       "        458.40233327,  730.58387188, 1096.0158035 , 1781.71969295,\n",
       "        935.53651405,  973.25940796,  927.58297505, 1860.95404919,\n",
       "        481.06886085, 1207.44459187, 1027.08915326, 1601.80584965,\n",
       "        453.85980927, 1361.69890777, 2016.96588284, 1891.81391162,\n",
       "       1891.86611606, 1254.59116067,  975.83791643,  975.01046267,\n",
       "        162.70139278, 1384.9423217 ,  618.54009375,  527.98043091,\n",
       "        523.30571833, 1903.12363531, 1409.72939946,  641.71687921,\n",
       "        767.17180583, 2038.12599794, 1769.84700955, 1071.78165424,\n",
       "       2110.2283525 , 1080.43115526, 1057.15262456,  609.33723139,\n",
       "       1111.69962235, 3048.8486695 ,  642.48611522,  751.10744563,\n",
       "       1659.01567285,  551.81734685, 1162.89554907, 1005.53055278,\n",
       "       2269.39370614,  578.8250124 ,  618.45290541, 1222.31791867,\n",
       "       2646.73074048,  747.86042922, 1372.95058101, 2588.27735678,\n",
       "       1781.71969295, 1623.15576726, 1440.37306671, 2011.59301846,\n",
       "       1131.39826451,  358.09889115, 2046.60945947, 2035.90558751,\n",
       "       2034.20583858,  693.34365458, 2552.04253655, 1265.08788918,\n",
       "       1147.47433913,  990.59179099, 2878.54521503, 1851.9792823 ,\n",
       "        450.35959553, 2497.21118595,  662.53748816,   59.88737486,\n",
       "        714.68033953, 1413.91433136, 1103.61699229, 1041.09839976,\n",
       "        749.99464121, 1830.7790448 , 1918.61596962,  978.81023956,\n",
       "       1051.84385681, 1159.58388882,  243.75877695, 1589.55254788,\n",
       "       1813.38833421,  909.79348825, 1423.27162666, 1818.88659251,\n",
       "        877.7000468 , 1740.71377405,  911.24169157, 1932.26080513,\n",
       "       1301.78091973,  317.30898245,  721.8705012 ,  500.76540476,\n",
       "        899.65569619, 1788.67098058,  954.89142645,  755.65602709,\n",
       "       1046.93676625,  955.94059574,  491.74248518, 1222.06140372,\n",
       "        506.82818869, 1465.80592159, 1218.25514654,  818.8379811 ,\n",
       "       2341.2820502 , 1267.01421815, 1374.64370661, 1272.06047279,\n",
       "        801.57062491, 2569.72050259, 2095.83663724,  801.84754192,\n",
       "        472.15245259,  727.26002588,  829.53769805,  983.20014213,\n",
       "       2016.96588284, 1202.35516838, 1133.71417829, 1019.69526335,\n",
       "       1528.22434252, 1059.32467603,   92.34584457,  862.57582465,\n",
       "       2347.62534517,  640.5251158 , 1274.41090311, 1383.78089641,\n",
       "       2184.34423775, 1217.47745229,  973.23959778, 2012.24448786,\n",
       "        671.55079751, 1742.6437823 , 1506.7707216 , 1037.10591815,\n",
       "       1809.41418461,  949.25134443, 1894.77028574, 1108.89536262,\n",
       "        478.46755329, 1435.24224706, 1406.36180257,  911.43502852,\n",
       "       1239.27362927,  880.01090965,  798.32739871,  510.87934308,\n",
       "       1599.45990869, 1284.05151931, 2271.35544483, 1754.31320372,\n",
       "       1142.73877404, 1380.97938043,  929.65068092,  506.82818869,\n",
       "       1063.13215323, 1409.72939946, 1198.6699954 ,  377.32188346,\n",
       "       1979.47792392,  427.68929882, 1809.11790986,  604.21329767,\n",
       "       2242.94713261, 1474.06518309,  918.15027326,  524.8307619 ,\n",
       "        480.12243353,  727.26002588, 1234.77645432,  736.17804902,\n",
       "        805.48252858,  962.58740519,  619.53582835, 1480.29174993,\n",
       "       1465.80592159, 2151.34179437, 2173.68214638,  769.86319135,\n",
       "        933.6588787 , 1086.37164133, 1003.01484847,  471.06127064,\n",
       "        808.67960353, 1215.17410496,  926.36861119, 1846.74734591,\n",
       "        711.07740297, 2043.50985972, 1496.87588035, 1691.44320541,\n",
       "        277.70216621,  509.20005965,  826.93521726, 1735.32796449,\n",
       "        757.94960488,  351.04975247,  488.9783816 ,  627.99094528,\n",
       "       1811.87508467, 2163.76018835, 1798.41681917,  887.57204138,\n",
       "       1415.07045011, 1713.84421933, 1897.91867372, 1891.22641106,\n",
       "       1027.78699645, 1547.0069695 , 1584.34914368,  509.85067985,\n",
       "        640.93896476,  317.30898245,  966.36096165,  222.43519406,\n",
       "        782.90259493,  447.75763171,  784.45710427, 1018.88694039,\n",
       "       2016.86405464, 1360.19263361,  503.8227951 , 1131.38418391,\n",
       "        664.02606893, 1952.63918023,  353.24709292, 1316.95971042,\n",
       "        760.03078943,  980.82651487,  700.35354345, 1632.52988297,\n",
       "       1659.53291955, 1282.74047597,  990.42970547, 1054.40492018,\n",
       "        511.83519836, 1312.85829982, 1083.67047805,  551.81734685,\n",
       "       1002.23834637, 1888.23806471,  709.81955081, 1409.97782147,\n",
       "        386.17672262, 1949.29724912,  634.80516806, 1045.08223343,\n",
       "       1783.48933088,  882.40841596,  502.69903525, 1779.37734435,\n",
       "       1005.73923564,  500.76540476,  430.88419944, 1037.1563509 ,\n",
       "       1002.23834637, 1265.80067966,  552.10744962, 1342.89363157,\n",
       "       1257.10686497,  352.25165286,  388.45830771, 1220.85762733,\n",
       "       1360.19263361,  253.92471756, 1310.00002236,  485.714782  ,\n",
       "       2019.30202691,  607.82932119, 1095.52176029, 1896.96407079,\n",
       "        388.31390189,  492.16010871, 1175.17843459])"
      ]
     },
     "execution_count": 52,
     "metadata": {},
     "output_type": "execute_result"
    }
   ],
   "source": [
    "predictions_train"
   ]
  },
  {
   "cell_type": "code",
   "execution_count": 84,
   "metadata": {},
   "outputs": [],
   "source": [
    "# from sklearn.linear_model import Ridge\n",
    "\n",
    "# ridgeR = Ridge(alpha = 0.6579332246575675)\n",
    "# ridgeR.fit(X, y)\n",
    "\n",
    "# predictions_ri=ridgeR.predict(X)"
   ]
  },
  {
   "cell_type": "code",
   "execution_count": 289,
   "metadata": {},
   "outputs": [
    {
     "data": {
      "text/plain": [
       "243.55075783112702"
      ]
     },
     "execution_count": 289,
     "metadata": {},
     "output_type": "execute_result"
    }
   ],
   "source": [
    "# mean_absolute_error(y,predictions_ri) "
   ]
  },
  {
   "cell_type": "markdown",
   "metadata": {},
   "source": [
    "### 4. Sacar métricas, valorar el modelo \n",
    "\n",
    "Recuerda que en la competición se va a evaluar con la métrica de MAE."
   ]
  },
  {
   "cell_type": "code",
   "execution_count": 267,
   "metadata": {},
   "outputs": [
    {
     "data": {
      "text/plain": [
       "(183, 40)"
      ]
     },
     "execution_count": 267,
     "metadata": {},
     "output_type": "execute_result"
    }
   ],
   "source": [
    "X_test.shape\n",
    "# y_test.shape"
   ]
  },
  {
   "cell_type": "code",
   "execution_count": 103,
   "metadata": {},
   "outputs": [
    {
     "data": {
      "text/html": [
       "<div>\n",
       "<style scoped>\n",
       "    .dataframe tbody tr th:only-of-type {\n",
       "        vertical-align: middle;\n",
       "    }\n",
       "\n",
       "    .dataframe tbody tr th {\n",
       "        vertical-align: top;\n",
       "    }\n",
       "\n",
       "    .dataframe thead th {\n",
       "        text-align: right;\n",
       "    }\n",
       "</style>\n",
       "<table border=\"1\" class=\"dataframe\">\n",
       "  <thead>\n",
       "    <tr style=\"text-align: right;\">\n",
       "      <th></th>\n",
       "      <th>id</th>\n",
       "      <th>Ram</th>\n",
       "      <th>Weight</th>\n",
       "      <th>OpSys_Chrome OS</th>\n",
       "      <th>OpSys_Linux</th>\n",
       "      <th>OpSys_No OS</th>\n",
       "      <th>OpSys_Windows 10</th>\n",
       "      <th>OpSys_Windows 7</th>\n",
       "      <th>OpSys_macOS</th>\n",
       "      <th>Total_GB</th>\n",
       "      <th>...</th>\n",
       "      <th>TypeName_Notebook</th>\n",
       "      <th>TypeName_Ultrabook</th>\n",
       "      <th>TypeName_Workstation</th>\n",
       "      <th>ResolutionHeight</th>\n",
       "      <th>Speed_GHz</th>\n",
       "      <th>CPU_Type_AMD</th>\n",
       "      <th>CPU_Type_Intel</th>\n",
       "      <th>OpSys_Android</th>\n",
       "      <th>Company_Fujitsu</th>\n",
       "      <th>Company_Mediacom</th>\n",
       "    </tr>\n",
       "  </thead>\n",
       "  <tbody>\n",
       "    <tr>\n",
       "      <th>0</th>\n",
       "      <td>181</td>\n",
       "      <td>16</td>\n",
       "      <td>1.30</td>\n",
       "      <td>False</td>\n",
       "      <td>False</td>\n",
       "      <td>False</td>\n",
       "      <td>True</td>\n",
       "      <td>False</td>\n",
       "      <td>False</td>\n",
       "      <td>512.0</td>\n",
       "      <td>...</td>\n",
       "      <td>False</td>\n",
       "      <td>True</td>\n",
       "      <td>False</td>\n",
       "      <td>2160</td>\n",
       "      <td>2.7</td>\n",
       "      <td>False</td>\n",
       "      <td>True</td>\n",
       "      <td>0</td>\n",
       "      <td>0</td>\n",
       "      <td>0</td>\n",
       "    </tr>\n",
       "    <tr>\n",
       "      <th>1</th>\n",
       "      <td>708</td>\n",
       "      <td>8</td>\n",
       "      <td>2.20</td>\n",
       "      <td>False</td>\n",
       "      <td>False</td>\n",
       "      <td>False</td>\n",
       "      <td>True</td>\n",
       "      <td>False</td>\n",
       "      <td>False</td>\n",
       "      <td>256.0</td>\n",
       "      <td>...</td>\n",
       "      <td>True</td>\n",
       "      <td>False</td>\n",
       "      <td>False</td>\n",
       "      <td>768</td>\n",
       "      <td>2.7</td>\n",
       "      <td>True</td>\n",
       "      <td>False</td>\n",
       "      <td>0</td>\n",
       "      <td>0</td>\n",
       "      <td>0</td>\n",
       "    </tr>\n",
       "    <tr>\n",
       "      <th>2</th>\n",
       "      <td>862</td>\n",
       "      <td>4</td>\n",
       "      <td>2.40</td>\n",
       "      <td>False</td>\n",
       "      <td>True</td>\n",
       "      <td>False</td>\n",
       "      <td>False</td>\n",
       "      <td>False</td>\n",
       "      <td>False</td>\n",
       "      <td>500.0</td>\n",
       "      <td>...</td>\n",
       "      <td>True</td>\n",
       "      <td>False</td>\n",
       "      <td>False</td>\n",
       "      <td>768</td>\n",
       "      <td>2.0</td>\n",
       "      <td>False</td>\n",
       "      <td>True</td>\n",
       "      <td>0</td>\n",
       "      <td>0</td>\n",
       "      <td>0</td>\n",
       "    </tr>\n",
       "    <tr>\n",
       "      <th>3</th>\n",
       "      <td>1064</td>\n",
       "      <td>8</td>\n",
       "      <td>1.43</td>\n",
       "      <td>False</td>\n",
       "      <td>False</td>\n",
       "      <td>False</td>\n",
       "      <td>False</td>\n",
       "      <td>True</td>\n",
       "      <td>False</td>\n",
       "      <td>256.0</td>\n",
       "      <td>...</td>\n",
       "      <td>True</td>\n",
       "      <td>False</td>\n",
       "      <td>False</td>\n",
       "      <td>1080</td>\n",
       "      <td>2.3</td>\n",
       "      <td>False</td>\n",
       "      <td>True</td>\n",
       "      <td>0</td>\n",
       "      <td>0</td>\n",
       "      <td>0</td>\n",
       "    </tr>\n",
       "    <tr>\n",
       "      <th>4</th>\n",
       "      <td>702</td>\n",
       "      <td>8</td>\n",
       "      <td>1.34</td>\n",
       "      <td>False</td>\n",
       "      <td>False</td>\n",
       "      <td>False</td>\n",
       "      <td>True</td>\n",
       "      <td>False</td>\n",
       "      <td>False</td>\n",
       "      <td>256.0</td>\n",
       "      <td>...</td>\n",
       "      <td>True</td>\n",
       "      <td>False</td>\n",
       "      <td>False</td>\n",
       "      <td>1080</td>\n",
       "      <td>2.5</td>\n",
       "      <td>False</td>\n",
       "      <td>True</td>\n",
       "      <td>0</td>\n",
       "      <td>0</td>\n",
       "      <td>0</td>\n",
       "    </tr>\n",
       "  </tbody>\n",
       "</table>\n",
       "<p>5 rows × 41 columns</p>\n",
       "</div>"
      ],
      "text/plain": [
       "     id  Ram  Weight  OpSys_Chrome OS  OpSys_Linux  OpSys_No OS  \\\n",
       "0   181   16    1.30            False        False        False   \n",
       "1   708    8    2.20            False        False        False   \n",
       "2   862    4    2.40            False         True        False   \n",
       "3  1064    8    1.43            False        False        False   \n",
       "4   702    8    1.34            False        False        False   \n",
       "\n",
       "   OpSys_Windows 10  OpSys_Windows 7  OpSys_macOS  Total_GB  ...  \\\n",
       "0              True            False        False     512.0  ...   \n",
       "1              True            False        False     256.0  ...   \n",
       "2             False            False        False     500.0  ...   \n",
       "3             False             True        False     256.0  ...   \n",
       "4              True            False        False     256.0  ...   \n",
       "\n",
       "   TypeName_Notebook  TypeName_Ultrabook  TypeName_Workstation  \\\n",
       "0              False                True                 False   \n",
       "1               True               False                 False   \n",
       "2               True               False                 False   \n",
       "3               True               False                 False   \n",
       "4               True               False                 False   \n",
       "\n",
       "   ResolutionHeight  Speed_GHz  CPU_Type_AMD  CPU_Type_Intel  OpSys_Android  \\\n",
       "0              2160        2.7         False            True              0   \n",
       "1               768        2.7          True           False              0   \n",
       "2               768        2.0         False            True              0   \n",
       "3              1080        2.3         False            True              0   \n",
       "4              1080        2.5         False            True              0   \n",
       "\n",
       "   Company_Fujitsu  Company_Mediacom  \n",
       "0                0                 0  \n",
       "1                0                 0  \n",
       "2                0                 0  \n",
       "3                0                 0  \n",
       "4                0                 0  \n",
       "\n",
       "[5 rows x 41 columns]"
      ]
     },
     "execution_count": 103,
     "metadata": {},
     "output_type": "execute_result"
    }
   ],
   "source": [
    "test.head()"
   ]
  },
  {
   "cell_type": "code",
   "execution_count": 44,
   "metadata": {},
   "outputs": [],
   "source": [
    "y_predT = lr.predict(xtt_scale)\n",
    "# print(\"Train MAE:\", metrics.mean_absolute_error(predictions_train, lr.predict(xtt_scale)))\n",
    "# print(lr.score(Xtt,y_predT))"
   ]
  },
  {
   "cell_type": "markdown",
   "metadata": {},
   "source": [
    "-----------------------------------------------------------------"
   ]
  },
  {
   "cell_type": "code",
   "execution_count": 45,
   "metadata": {},
   "outputs": [
    {
     "data": {
      "text/html": [
       "<style>#sk-container-id-2 {color: black;}#sk-container-id-2 pre{padding: 0;}#sk-container-id-2 div.sk-toggleable {background-color: white;}#sk-container-id-2 label.sk-toggleable__label {cursor: pointer;display: block;width: 100%;margin-bottom: 0;padding: 0.3em;box-sizing: border-box;text-align: center;}#sk-container-id-2 label.sk-toggleable__label-arrow:before {content: \"▸\";float: left;margin-right: 0.25em;color: #696969;}#sk-container-id-2 label.sk-toggleable__label-arrow:hover:before {color: black;}#sk-container-id-2 div.sk-estimator:hover label.sk-toggleable__label-arrow:before {color: black;}#sk-container-id-2 div.sk-toggleable__content {max-height: 0;max-width: 0;overflow: hidden;text-align: left;background-color: #f0f8ff;}#sk-container-id-2 div.sk-toggleable__content pre {margin: 0.2em;color: black;border-radius: 0.25em;background-color: #f0f8ff;}#sk-container-id-2 input.sk-toggleable__control:checked~div.sk-toggleable__content {max-height: 200px;max-width: 100%;overflow: auto;}#sk-container-id-2 input.sk-toggleable__control:checked~label.sk-toggleable__label-arrow:before {content: \"▾\";}#sk-container-id-2 div.sk-estimator input.sk-toggleable__control:checked~label.sk-toggleable__label {background-color: #d4ebff;}#sk-container-id-2 div.sk-label input.sk-toggleable__control:checked~label.sk-toggleable__label {background-color: #d4ebff;}#sk-container-id-2 input.sk-hidden--visually {border: 0;clip: rect(1px 1px 1px 1px);clip: rect(1px, 1px, 1px, 1px);height: 1px;margin: -1px;overflow: hidden;padding: 0;position: absolute;width: 1px;}#sk-container-id-2 div.sk-estimator {font-family: monospace;background-color: #f0f8ff;border: 1px dotted black;border-radius: 0.25em;box-sizing: border-box;margin-bottom: 0.5em;}#sk-container-id-2 div.sk-estimator:hover {background-color: #d4ebff;}#sk-container-id-2 div.sk-parallel-item::after {content: \"\";width: 100%;border-bottom: 1px solid gray;flex-grow: 1;}#sk-container-id-2 div.sk-label:hover label.sk-toggleable__label {background-color: #d4ebff;}#sk-container-id-2 div.sk-serial::before {content: \"\";position: absolute;border-left: 1px solid gray;box-sizing: border-box;top: 0;bottom: 0;left: 50%;z-index: 0;}#sk-container-id-2 div.sk-serial {display: flex;flex-direction: column;align-items: center;background-color: white;padding-right: 0.2em;padding-left: 0.2em;position: relative;}#sk-container-id-2 div.sk-item {position: relative;z-index: 1;}#sk-container-id-2 div.sk-parallel {display: flex;align-items: stretch;justify-content: center;background-color: white;position: relative;}#sk-container-id-2 div.sk-item::before, #sk-container-id-2 div.sk-parallel-item::before {content: \"\";position: absolute;border-left: 1px solid gray;box-sizing: border-box;top: 0;bottom: 0;left: 50%;z-index: -1;}#sk-container-id-2 div.sk-parallel-item {display: flex;flex-direction: column;z-index: 1;position: relative;background-color: white;}#sk-container-id-2 div.sk-parallel-item:first-child::after {align-self: flex-end;width: 50%;}#sk-container-id-2 div.sk-parallel-item:last-child::after {align-self: flex-start;width: 50%;}#sk-container-id-2 div.sk-parallel-item:only-child::after {width: 0;}#sk-container-id-2 div.sk-dashed-wrapped {border: 1px dashed gray;margin: 0 0.4em 0.5em 0.4em;box-sizing: border-box;padding-bottom: 0.4em;background-color: white;}#sk-container-id-2 div.sk-label label {font-family: monospace;font-weight: bold;display: inline-block;line-height: 1.2em;}#sk-container-id-2 div.sk-label-container {text-align: center;}#sk-container-id-2 div.sk-container {/* jupyter's `normalize.less` sets `[hidden] { display: none; }` but bootstrap.min.css set `[hidden] { display: none !important; }` so we also need the `!important` here to be able to override the default hidden behavior on the sphinx rendered scikit-learn.org. See: https://github.com/scikit-learn/scikit-learn/issues/21755 */display: inline-block !important;position: relative;}#sk-container-id-2 div.sk-text-repr-fallback {display: none;}</style><div id=\"sk-container-id-2\" class=\"sk-top-container\"><div class=\"sk-text-repr-fallback\"><pre>Ridge(alpha=0.6579332246575675)</pre><b>In a Jupyter environment, please rerun this cell to show the HTML representation or trust the notebook. <br />On GitHub, the HTML representation is unable to render, please try loading this page with nbviewer.org.</b></div><div class=\"sk-container\" hidden><div class=\"sk-item\"><div class=\"sk-estimator sk-toggleable\"><input class=\"sk-toggleable__control sk-hidden--visually\" id=\"sk-estimator-id-2\" type=\"checkbox\" checked><label for=\"sk-estimator-id-2\" class=\"sk-toggleable__label sk-toggleable__label-arrow\">Ridge</label><div class=\"sk-toggleable__content\"><pre>Ridge(alpha=0.6579332246575675)</pre></div></div></div></div></div>"
      ],
      "text/plain": [
       "Ridge(alpha=0.6579332246575675)"
      ]
     },
     "execution_count": 45,
     "metadata": {},
     "output_type": "execute_result"
    }
   ],
   "source": [
    "ridgeR.fit(xtt_scale,y_predT)\n"
   ]
  },
  {
   "cell_type": "code",
   "execution_count": 46,
   "metadata": {},
   "outputs": [],
   "source": [
    "predictions_test=ridgeR.predict(xtt_scale)"
   ]
  },
  {
   "cell_type": "code",
   "execution_count": 51,
   "metadata": {},
   "outputs": [
    {
     "data": {
      "text/plain": [
       "array([ 2.47193750e+03,  6.28093750e+02,  3.38593750e+02,  1.48662500e+03,\n",
       "        1.02993750e+03,  1.71459375e+03,  2.72846875e+03,  5.10921875e+02,\n",
       "        5.04384375e+03,  1.43939062e+03,  1.42935938e+03,  5.96734375e+02,\n",
       "        3.40578125e+02,  4.69531250e+02,  4.45781250e+02,  1.10910938e+03,\n",
       "        8.93171875e+02,  1.49168750e+03,  1.24467188e+03,  1.38982812e+03,\n",
       "        1.67501562e+03,  1.24068750e+03,  1.51621875e+03,  1.21410938e+03,\n",
       "        1.78376562e+03,  6.61875000e+02,  8.81765625e+02,  3.98125000e+02,\n",
       "        1.20804688e+03,  2.90546875e+02,  1.25226562e+03,  1.12554688e+03,\n",
       "        1.82279688e+03,  5.28421875e+02,  5.77359375e+02,  1.79337500e+03,\n",
       "        9.24781250e+02,  8.12890625e+02,  3.01271875e+03,  5.30125000e+02,\n",
       "        7.02906250e+02,  8.76000000e+02,  1.27131250e+03,  1.88334375e+03,\n",
       "        1.25564062e+03,  1.35851562e+03,  4.66265625e+02,  3.02320312e+03,\n",
       "        2.19921875e+02,  1.77735938e+03,  1.00954688e+03,  1.00129688e+03,\n",
       "        9.75453125e+02,  3.26484375e+02,  1.21173438e+03,  6.35265625e+02,\n",
       "        7.21890625e+02,  4.30421875e+02,  9.28359375e+02,  1.34857812e+03,\n",
       "        1.47934375e+03,  1.22384375e+03,  5.35625000e+02,  1.17167188e+03,\n",
       "        1.03859375e+03,  1.32323438e+03,  6.11375000e+02,  2.09435938e+03,\n",
       "        5.39937500e+02,  1.93809375e+03,  8.87687500e+02,  2.73814062e+03,\n",
       "        2.00159375e+03,  1.20435938e+03,  1.10204688e+03,  9.97125000e+02,\n",
       "        9.95718750e+02,  3.50812500e+02,  1.11409375e+03,  9.74515625e+02,\n",
       "        3.23671875e+02,  2.12867188e+03,  1.42753125e+03,  5.88515625e+02,\n",
       "        1.30182812e+03,  1.48634375e+03,  1.93576562e+03,  3.65078125e+02,\n",
       "        2.76282812e+03,  7.39781250e+02,  3.24359375e+02,  2.85046875e+02,\n",
       "        1.34857812e+03,  1.28434375e+03,  2.26356250e+03,  4.70546875e+02,\n",
       "        2.36435938e+03,  1.13117188e+03,  1.05876562e+03,  1.04070312e+03,\n",
       "        5.74000000e+02,  5.53734375e+02,  1.53600000e+03,  1.35323438e+03,\n",
       "        1.13682812e+03,  1.12923438e+03,  8.71140625e+02,  7.24484375e+02,\n",
       "        1.45281250e+03,  1.26117188e+03,  1.09307812e+03,  1.04801562e+03,\n",
       "        4.56390625e+02,  7.38781250e+02,  1.10159375e+03,  1.78376562e+03,\n",
       "        9.41640625e+02,  9.81625000e+02,  9.38390625e+02,  1.88742188e+03,\n",
       "        4.73218750e+02,  1.19132812e+03,  1.02339062e+03,  1.60915625e+03,\n",
       "        4.62187500e+02,  1.35560938e+03,  2.02151562e+03,  1.89125000e+03,\n",
       "        1.90020312e+03,  1.24921875e+03,  9.73531250e+02,  9.80265625e+02,\n",
       "        1.64078125e+02,  1.37823438e+03,  6.14031250e+02,  5.22265625e+02,\n",
       "        5.21359375e+02,  1.90145312e+03,  1.39714062e+03,  6.46500000e+02,\n",
       "        7.63765625e+02,  2.04701562e+03,  1.78579688e+03,  1.07800000e+03,\n",
       "        2.09900000e+03,  1.08643750e+03,  1.05442188e+03,  6.11250000e+02,\n",
       "        1.10871875e+03,  3.09982812e+03,  6.42484375e+02,  7.47390625e+02,\n",
       "        1.64376562e+03,  5.44765625e+02,  1.16984375e+03,  1.01193750e+03,\n",
       "        2.27759375e+03,  5.71625000e+02,  6.14984375e+02,  1.20456250e+03,\n",
       "        2.67726562e+03,  7.45843750e+02,  1.35185938e+03,  2.62056250e+03,\n",
       "        1.78376562e+03,  1.64556250e+03,  1.43362500e+03,  2.01170312e+03,\n",
       "        1.12923438e+03,  3.50812500e+02,  2.05700000e+03,  2.04067188e+03,\n",
       "        2.04323438e+03,  6.81359375e+02,  2.59387500e+03,  1.26181250e+03,\n",
       "        1.15709375e+03,  9.97609375e+02,  2.92712500e+03,  1.85476562e+03,\n",
       "        4.42453125e+02,  2.90660938e+03,  6.55531250e+02,  5.99218750e+01,\n",
       "        7.10359375e+02,  1.41167188e+03,  1.10804688e+03,  1.03875000e+03,\n",
       "        7.49046875e+02,  1.84504688e+03,  1.92615625e+03,  9.76515625e+02,\n",
       "        1.03370312e+03,  1.14976562e+03,  2.42015625e+02,  1.57607812e+03,\n",
       "        1.81301562e+03,  9.14921875e+02,  1.42253125e+03,  1.81989062e+03,\n",
       "        8.70828125e+02,  1.73870312e+03,  9.09375000e+02,  1.95056250e+03,\n",
       "        1.29035938e+03,  3.08421875e+02,  7.06109375e+02,  4.87937500e+02,\n",
       "        8.98468750e+02,  1.80406250e+03,  9.37718750e+02,  7.49281250e+02,\n",
       "        1.04754688e+03,  9.63843750e+02,  4.88953125e+02,  1.21870312e+03,\n",
       "        4.99421875e+02,  1.47510938e+03,  1.22382812e+03,  8.19687500e+02,\n",
       "        2.33035938e+03,  1.26120312e+03,  1.38270312e+03,  1.28506250e+03,\n",
       "        7.99984375e+02,  2.60251562e+03,  2.10145312e+03,  7.97390625e+02,\n",
       "        4.65781250e+02,  7.25406250e+02,  8.25875000e+02,  9.90359375e+02,\n",
       "        2.02151562e+03,  1.19254688e+03,  1.13653125e+03,  1.02710938e+03,\n",
       "        1.52501562e+03,  1.06554688e+03,  9.15468750e+01,  8.66390625e+02,\n",
       "        2.33342188e+03,  6.34109375e+02,  1.27053125e+03,  1.37184375e+03,\n",
       "        2.20004688e+03,  1.21314062e+03,  9.80718750e+02,  2.00848438e+03,\n",
       "        6.58031250e+02,  1.76443750e+03,  1.53265625e+03,  1.04435938e+03,\n",
       "        1.80948438e+03,  9.55265625e+02,  1.89639062e+03,  1.11409375e+03,\n",
       "        4.71656250e+02,  1.43315625e+03,  1.41745312e+03,  9.13359375e+02,\n",
       "        1.23429688e+03,  8.64531250e+02,  7.98406250e+02,  5.01328125e+02,\n",
       "        1.58510938e+03,  1.26557812e+03,  2.26401562e+03,  1.74478125e+03,\n",
       "        1.14693750e+03,  1.37439062e+03,  9.36343750e+02,  4.99421875e+02,\n",
       "        1.06957812e+03,  1.39714062e+03,  1.21081250e+03,  3.56296875e+02,\n",
       "        1.99893750e+03,  4.20781250e+02,  1.81123438e+03,  6.00046875e+02,\n",
       "        2.27412500e+03,  1.48835938e+03,  9.19843750e+02,  5.22953125e+02,\n",
       "        4.80546875e+02,  7.25406250e+02,  1.23000000e+03,  7.25843750e+02,\n",
       "        7.93453125e+02,  9.68281250e+02,  6.17609375e+02,  1.49300000e+03,\n",
       "        1.47510938e+03,  2.15898438e+03,  2.17734375e+03,  7.70765625e+02,\n",
       "        9.32234375e+02,  1.09412500e+03,  1.00957812e+03,  4.75500000e+02,\n",
       "        8.08125000e+02,  1.21748438e+03,  9.30515625e+02,  1.86448438e+03,\n",
       "        7.02906250e+02,  2.06635938e+03,  1.52298438e+03,  1.67885938e+03,\n",
       "        2.70562500e+02,  5.15656250e+02,  8.22234375e+02,  1.74546875e+03,\n",
       "        7.50015625e+02,  3.32953125e+02,  4.77546875e+02,  6.23109375e+02,\n",
       "        1.82189062e+03,  2.16346875e+03,  1.78109375e+03,  8.89656250e+02,\n",
       "        1.40918750e+03,  1.72518750e+03,  1.89417188e+03,  1.90360938e+03,\n",
       "        1.01967188e+03,  1.61584375e+03,  1.59982812e+03,  5.16562500e+02,\n",
       "        6.29250000e+02,  3.08421875e+02,  9.71828125e+02,  2.19656250e+02,\n",
       "        7.93015625e+02,  4.54359375e+02,  7.84953125e+02,  1.01879688e+03,\n",
       "        2.02629688e+03,  1.34909375e+03,  4.97703125e+02,  1.13585938e+03,\n",
       "        6.66015625e+02,  1.94743750e+03,  3.55531250e+02,  1.29748438e+03,\n",
       "        7.70656250e+02, -1.55031790e+13,  6.96359375e+02,  1.62370312e+03,\n",
       "        1.68017188e+03,  1.26437500e+03,  9.98796875e+02,  1.06123438e+03,\n",
       "        5.00781250e+02,  1.31628125e+03,  1.08953125e+03,  5.44765625e+02,\n",
       "        9.86734375e+02,  1.88715625e+03,  7.01734375e+02,  1.40248438e+03,\n",
       "        3.79500000e+02,  1.94531250e+03,  6.23187500e+02,  1.05046875e+03,\n",
       "        1.78982812e+03,  8.83953125e+02,  4.99875000e+02,  1.79914062e+03,\n",
       "        9.86984375e+02,  4.87937500e+02,  4.25281250e+02,  1.04278125e+03,\n",
       "        9.86734375e+02,  1.26660938e+03,  5.57765625e+02,  1.33223438e+03,\n",
       "        1.25157812e+03,  3.46140625e+02,  3.84859375e+02,  1.22746875e+03,\n",
       "        1.34909375e+03,  2.56234375e+02,  1.29087500e+03,  4.65359375e+02,\n",
       "        2.02876562e+03,  6.01093750e+02,  1.08378125e+03,  1.90201562e+03,\n",
       "        3.84078125e+02,  4.86843750e+02,  1.17835938e+03])"
      ]
     },
     "execution_count": 51,
     "metadata": {},
     "output_type": "execute_result"
    }
   ],
   "source": [
    "y_predT"
   ]
  },
  {
   "cell_type": "code",
   "execution_count": 47,
   "metadata": {},
   "outputs": [
    {
     "data": {
      "text/plain": [
       "array([-7.40486789e+10, -4.49390773e+10,  5.65545091e+10, -4.77247458e+10,\n",
       "        4.17473734e+10,  4.56956769e+09, -3.19223457e+10, -9.32346512e+10,\n",
       "        4.13842136e+11, -1.31737854e+11,  7.03774732e+10,  8.97737211e+10,\n",
       "       -5.75141248e+10, -4.26430293e+10, -2.52852930e+10, -6.52893608e+10,\n",
       "       -3.60448007e+10, -1.05208150e+11, -5.93696107e+10,  7.70571312e+10,\n",
       "        3.71596350e+10, -1.11366024e+11,  8.22399110e+10,  3.12936923e+10,\n",
       "        1.52420191e+10, -1.11198193e+11,  2.20094354e+10, -1.11092198e+11,\n",
       "       -4.77797003e+10,  5.73101823e+10, -1.57274259e+11, -5.50988022e+10,\n",
       "        3.99742504e+10,  7.02083604e+10,  1.70180323e+09,  1.50498602e+10,\n",
       "        1.79020200e+09,  1.34206395e+11,  1.66776595e+11, -1.20376244e+10,\n",
       "       -7.28382931e+09, -1.47922346e+10,  2.31284110e+10,  3.87636494e+10,\n",
       "        5.50471782e+10, -4.90079057e+10, -2.37033876e+10,  1.55562798e+11,\n",
       "        3.37515815e+10, -7.61863871e+10, -1.14877100e+10,  6.99434066e+10,\n",
       "        3.14277932e+09, -3.02365337e+10, -6.65568603e+10,  2.25328787e+10,\n",
       "       -2.32468397e+10,  4.34985123e+09,  8.35708983e+09, -5.80112245e+10,\n",
       "        6.93782470e+10, -7.40872226e+10, -1.64871655e+11, -6.38847362e+10,\n",
       "        4.15744304e+10, -5.17316313e+10,  8.88172645e+10,  3.15998586e+10,\n",
       "        4.00068074e+10,  4.62138077e+10,  5.75126678e+10,  5.16415637e+10,\n",
       "        1.93641781e+10, -6.45380764e+10, -5.33011843e+10,  8.30998248e+09,\n",
       "        9.54525273e+09, -1.39711321e+10,  4.13928118e+10,  2.67071815e+10,\n",
       "       -8.56134916e+11,  7.37136368e+10, -4.88396895e+09,  8.86102275e+10,\n",
       "       -2.29233840e+10, -3.64215999e+10,  3.90432122e+10,  9.10447147e+10,\n",
       "        8.65691184e+10, -1.00400876e+11,  2.07552437e+10,  1.27701312e+11,\n",
       "       -5.80112245e+10, -2.31286703e+10, -1.65971869e+11,  3.59626544e+10,\n",
       "       -3.78978685e+10, -4.62424292e+10,  4.11708968e+10,  1.37518359e+11,\n",
       "       -1.03398270e+11,  6.01692766e+10, -1.01694124e+11, -2.82726939e+10,\n",
       "       -8.46924794e+09,  1.66749538e+10,  5.69667802e+10,  3.53123647e+10,\n",
       "       -7.52877701e+10, -2.34523655e+10, -2.51811810e+08, -3.69878234e+10,\n",
       "        5.50462517e+10, -1.10967454e+11,  4.16426184e+10,  1.52420191e+10,\n",
       "        2.78075264e+09,  1.03873060e+11,  1.00465043e+11, -2.47347557e+12,\n",
       "        1.53968300e+11, -5.51319141e+10,  4.65731756e+10, -1.56296074e+10,\n",
       "       -7.58554089e+09,  4.22850796e+10,  3.66647798e+10, -1.19816982e+10,\n",
       "        3.97542000e+10,  3.19191411e+10,  3.27019305e+10,  7.31943184e+09,\n",
       "       -1.51248480e+11,  4.31603349e+10,  8.94278351e+10,  5.51771743e+10,\n",
       "        4.47966458e+11,  1.15612440e+10, -3.24068107e+10,  3.85578569e+09,\n",
       "       -2.27559021e+10,  5.02489408e+10,  9.41079749e+10,  4.07865790e+10,\n",
       "       -3.54249542e+10,  4.12818543e+10,  3.62747283e+10, -9.39159469e+09,\n",
       "        4.94677490e+11, -2.21957861e+10,  7.06848468e+10,  1.20510178e+11,\n",
       "       -1.10927985e+11,  2.78166842e+10,  3.08614827e+10,  1.25404583e+10,\n",
       "       -6.34985264e+10,  4.86792360e+11, -1.94098175e+11, -5.31155652e+10,\n",
       "       -7.06716465e+10,  1.06762105e+10, -3.29379307e+10, -6.95379091e+10,\n",
       "        1.52420191e+10,  8.96827159e+10,  6.89641730e+10,  3.89019591e+10,\n",
       "        1.66749538e+10, -1.39711321e+10, -1.36462056e+11,  5.96983957e+10,\n",
       "        4.52255174e+10,  1.34426102e+10,  6.04157536e+10,  1.74287633e+10,\n",
       "        1.60400975e+11,  1.54823540e+10,  1.27963668e+11, -1.97969584e+10,\n",
       "       -6.22260186e+09,  2.98707772e+10, -1.71889178e+11, -1.61801280e+11,\n",
       "        5.84520875e+10, -2.18790664e+11, -5.40846979e+10,  7.51695200e+10,\n",
       "       -1.18540980e+11,  1.05255448e+11,  3.92353711e+10,  4.68465358e+10,\n",
       "       -6.73596102e+10,  3.68643067e+10,  1.42658169e+11, -1.14221970e+11,\n",
       "        3.30588408e+09, -7.40638856e+10, -1.32728404e+11,  4.12512887e+10,\n",
       "        5.65221172e+10, -1.72250162e+11,  3.16183756e+10, -5.67942747e+10,\n",
       "       -5.69561013e+10,  3.38255748e+10, -1.16468541e+11, -2.28089165e+10,\n",
       "        1.26266846e+11,  9.37428730e+10, -8.24939558e+10, -2.67037400e+10,\n",
       "        6.43621819e+10, -1.19017840e+10,  5.77147872e+10,  2.75930992e+10,\n",
       "        4.84250564e+08,  1.27110123e+11,  2.63244853e+10,  1.21867015e+11,\n",
       "       -1.50062582e+11,  3.03521138e+10, -2.00164165e+11,  4.75566525e+10,\n",
       "       -2.28327974e+10, -6.98410255e+10, -3.88984107e+10, -2.34284582e+10,\n",
       "        1.15680667e+09,  4.66498897e+10,  2.91342471e+09,  1.42996445e+10,\n",
       "        3.66647798e+10,  2.15313056e+10,  1.40324868e+10,  3.58294880e+10,\n",
       "       -2.09227455e+11,  3.50608525e+10, -1.51720001e+11, -1.95329511e+11,\n",
       "       -1.87598585e+11, -5.68348572e+09,  4.30010826e+11, -3.38926367e+10,\n",
       "       -1.09899489e+11,  3.13129082e+10, -1.09112333e+10,  3.25440242e+10,\n",
       "        6.06320164e+09,  1.20654754e+10,  7.62131394e+10,  4.14591351e+10,\n",
       "        2.80129050e+10,  7.81904495e+09, -1.86378025e+10,  4.13928118e+10,\n",
       "       -1.68387588e+11,  1.12263935e+10,  1.28263076e+11,  2.68310557e+10,\n",
       "        3.08901587e+10, -6.73134774e+10,  1.03057559e+11,  6.96920652e+10,\n",
       "       -2.28976898e+10, -3.18767191e+10, -1.72349837e+11, -2.47967925e+11,\n",
       "       -6.99084922e+10,  4.32371985e+10, -3.66563932e+09,  4.84250564e+08,\n",
       "        4.02913037e+10, -3.24068107e+10, -1.41120202e+11, -9.41616404e+11,\n",
       "        3.99324777e+09,  1.13489267e+11,  6.97255604e+10,  8.83796368e+10,\n",
       "        6.30730673e+10, -7.59987579e+10,  2.42959909e+10, -1.91196271e+11,\n",
       "        3.06850770e+10,  4.66498897e+10,  3.23034589e+10,  3.99322452e+10,\n",
       "       -1.78975020e+11,  8.88645914e+09,  5.30040590e+10, -3.15474756e+10,\n",
       "        1.27110123e+11, -7.94607193e+09, -3.44409328e+10,  1.02946602e+11,\n",
       "        2.75526806e+10, -5.11161866e+10,  1.39153267e+10,  1.47806258e+10,\n",
       "        4.53831413e+10, -6.66721556e+10,  1.02203706e+10,  7.54742213e+09,\n",
       "       -7.28382931e+09, -1.42011553e+10,  9.08059130e+10,  3.70827715e+10,\n",
       "        1.39738540e+10,  1.89789711e+10,  6.59480191e+09,  1.09914765e+11,\n",
       "        2.48852844e+10, -9.60034891e+11, -1.38362876e+12,  8.79184555e+10,\n",
       "        1.14178367e+11, -2.04056823e+10, -1.48804489e+11,  9.51851209e+09,\n",
       "        7.07810068e+10,  8.94921102e+10,  1.89239984e+10,  1.18483894e+11,\n",
       "       -9.41762962e+10, -6.28483811e+11,  5.43774461e+11,  1.80586268e+10,\n",
       "        9.23440910e+10,  3.38255748e+10,  6.82415652e+09,  6.70538876e+10,\n",
       "        7.08949856e+10,  1.01860307e+11,  1.03326582e+11,  1.11811924e+10,\n",
       "        4.93352538e+10, -3.14460163e+10,  5.68121245e+11, -7.10143382e+10,\n",
       "        2.23511355e+10,  3.08549856e+10,  1.62568644e+09, -5.85820984e+10,\n",
       "       -5.74988531e+09, -9.08763007e+12,  5.74038892e+10,  3.04991932e+10,\n",
       "       -2.37549991e+12, -5.65923216e+10,  3.77231854e+10,  4.24496857e+10,\n",
       "       -7.74654845e+10, -3.05705670e+10,  4.05559883e+10,  2.78166842e+10,\n",
       "       -2.54368416e+10,  3.99061765e+10, -6.59639511e+09,  4.20117194e+10,\n",
       "        4.30248071e+11,  2.72889038e+10,  9.04739473e+10,  1.44254801e+10,\n",
       "        1.30311359e+10,  1.38759952e+11,  3.67394721e+10,  8.85410256e+09,\n",
       "       -5.87391477e+10, -2.28089165e+10,  4.30330441e+10,  1.45792073e+10,\n",
       "       -2.54368416e+10, -6.76540875e+10,  2.05542193e+10, -3.24365669e+10,\n",
       "        3.05442727e+10, -1.73049235e+11, -2.47649515e+10,  2.26431081e+10,\n",
       "       -3.14460163e+10,  1.28277789e+11, -3.03908931e+10, -9.07711630e+11,\n",
       "        5.06140427e+10,  1.90040628e+10, -9.09531664e+10,  1.73062461e+10,\n",
       "        5.39065122e+10, -1.80000485e+11, -5.54737835e+10])"
      ]
     },
     "execution_count": 47,
     "metadata": {},
     "output_type": "execute_result"
    }
   ],
   "source": [
    "predictions_test"
   ]
  },
  {
   "cell_type": "code",
   "execution_count": 234,
   "metadata": {},
   "outputs": [],
   "source": [
    "# from sklearn.model_selection import GridSearchCV\n",
    "# n_alphas = 100\n",
    "# param_grid = {\n",
    "#     'fit_intercept': [True, False]\n",
    "# }\n",
    "\n",
    "# gs = GridSearchCV(estimator=lri, param_grid=param_grid, scoring=\"neg_mean_absolute_error\", cv=5)\n",
    "\n",
    "# gs.fit(x_scale, y)"
   ]
  },
  {
   "cell_type": "code",
   "execution_count": 235,
   "metadata": {},
   "outputs": [],
   "source": [
    "# best_params = gs.best_params_\n",
    "# best_estimator = gs.best_estimator_"
   ]
  },
  {
   "cell_type": "code",
   "execution_count": 236,
   "metadata": {},
   "outputs": [],
   "source": [
    "# # print(\"Best Parameters:\", best_params)\n",
    "# print(\"Best Estimator:\", best_estimator)"
   ]
  },
  {
   "cell_type": "code",
   "execution_count": 237,
   "metadata": {},
   "outputs": [],
   "source": [
    "# ridge = Ridge()\n",
    "\n",
    "# # Define a range of alpha values to search\n",
    "# alphas = np.logspace(-4, 3, 100)\n",
    "\n",
    "# # Set up the parameter grid for grid search\n",
    "# param_grid = {'alpha': alphas}\n",
    "\n",
    "# # Create the GridSearchCV object\n",
    "# grid_search = GridSearchCV(ridge, param_grid, scoring='neg_mean_absolute_error', cv=5)\n",
    "\n",
    "# # Fit the grid search to your data\n",
    "# grid_search.fit(x_scale, y)\n",
    "\n",
    "# # Print the best parameters and best estimator\n",
    "# print(\"Best Parameters:\", grid_search.best_params_)\n",
    "# print(\"Best Estimator:\", grid_search.best_estimator_)"
   ]
  },
  {
   "cell_type": "markdown",
   "metadata": {},
   "source": [
    "## Una vez listo el modelo, toca predecir con el dataset de predicción "
   ]
  },
  {
   "cell_type": "markdown",
   "metadata": {},
   "source": [
    "Definición de **modelo que está listo**. \n",
    "\n",
    "Tras hacer suficientes pruebas, analizar los datos, hacer feature engineering, probar diferentes modelos con diferentes parámetros, es con este con el que observo mejores métricas y menos overfitting. ¡Cuidado con el overfitting aquí! Si vuestro modelo aprende muy bien de estos datos pero hay overfitting cuando le pasemos los datos desconocidos de `test.csv` nos arriesgamos a que digamos, no salga lo esperado."
   ]
  },
  {
   "cell_type": "markdown",
   "metadata": {},
   "source": [
    "### 1. Entrena dicho modelo con TODOS tus datos de train, esto es con `train.csv` al completo.\n",
    "\n",
    "\n",
    "**CON LAS TRANSFORMACIONES QUE LE HAYAS REALIZADO A `X` INCLUÍDAS.**\n",
    "\n",
    "\n",
    "Véase:\n",
    "- Estandarización/Normalización\n",
    "- Eliminación de Outliers\n",
    "- Eliminación de columnas\n",
    "- Creación de columnas nuevas\n",
    "- Gestión de valores nulos\n",
    "- Y un largo etcétera de técnicas que como Data Scientist hayas considerado las mejores para tu dataset."
   ]
  },
  {
   "cell_type": "code",
   "execution_count": 62,
   "metadata": {},
   "outputs": [],
   "source": [
    "Xtt=test.drop(columns=['id'])"
   ]
  },
  {
   "cell_type": "code",
   "execution_count": null,
   "metadata": {},
   "outputs": [],
   "source": [
    "lri.fit(Xtt,predictions_ri)"
   ]
  },
  {
   "cell_type": "code",
   "execution_count": 270,
   "metadata": {},
   "outputs": [
    {
     "data": {
      "text/plain": [
       "(391, 40)"
      ]
     },
     "execution_count": 270,
     "metadata": {},
     "output_type": "execute_result"
    }
   ],
   "source": [
    "Xtt.shape"
   ]
  },
  {
   "cell_type": "code",
   "execution_count": 273,
   "metadata": {},
   "outputs": [],
   "source": [
    "scaler.fit(Xtt,predictions)\n",
    "\n",
    "xtt_scale=scaler.transform(Xtt)"
   ]
  },
  {
   "cell_type": "code",
   "execution_count": 242,
   "metadata": {},
   "outputs": [
    {
     "data": {
      "text/html": [
       "<style>#sk-container-id-17 {color: black;}#sk-container-id-17 pre{padding: 0;}#sk-container-id-17 div.sk-toggleable {background-color: white;}#sk-container-id-17 label.sk-toggleable__label {cursor: pointer;display: block;width: 100%;margin-bottom: 0;padding: 0.3em;box-sizing: border-box;text-align: center;}#sk-container-id-17 label.sk-toggleable__label-arrow:before {content: \"▸\";float: left;margin-right: 0.25em;color: #696969;}#sk-container-id-17 label.sk-toggleable__label-arrow:hover:before {color: black;}#sk-container-id-17 div.sk-estimator:hover label.sk-toggleable__label-arrow:before {color: black;}#sk-container-id-17 div.sk-toggleable__content {max-height: 0;max-width: 0;overflow: hidden;text-align: left;background-color: #f0f8ff;}#sk-container-id-17 div.sk-toggleable__content pre {margin: 0.2em;color: black;border-radius: 0.25em;background-color: #f0f8ff;}#sk-container-id-17 input.sk-toggleable__control:checked~div.sk-toggleable__content {max-height: 200px;max-width: 100%;overflow: auto;}#sk-container-id-17 input.sk-toggleable__control:checked~label.sk-toggleable__label-arrow:before {content: \"▾\";}#sk-container-id-17 div.sk-estimator input.sk-toggleable__control:checked~label.sk-toggleable__label {background-color: #d4ebff;}#sk-container-id-17 div.sk-label input.sk-toggleable__control:checked~label.sk-toggleable__label {background-color: #d4ebff;}#sk-container-id-17 input.sk-hidden--visually {border: 0;clip: rect(1px 1px 1px 1px);clip: rect(1px, 1px, 1px, 1px);height: 1px;margin: -1px;overflow: hidden;padding: 0;position: absolute;width: 1px;}#sk-container-id-17 div.sk-estimator {font-family: monospace;background-color: #f0f8ff;border: 1px dotted black;border-radius: 0.25em;box-sizing: border-box;margin-bottom: 0.5em;}#sk-container-id-17 div.sk-estimator:hover {background-color: #d4ebff;}#sk-container-id-17 div.sk-parallel-item::after {content: \"\";width: 100%;border-bottom: 1px solid gray;flex-grow: 1;}#sk-container-id-17 div.sk-label:hover label.sk-toggleable__label {background-color: #d4ebff;}#sk-container-id-17 div.sk-serial::before {content: \"\";position: absolute;border-left: 1px solid gray;box-sizing: border-box;top: 0;bottom: 0;left: 50%;z-index: 0;}#sk-container-id-17 div.sk-serial {display: flex;flex-direction: column;align-items: center;background-color: white;padding-right: 0.2em;padding-left: 0.2em;position: relative;}#sk-container-id-17 div.sk-item {position: relative;z-index: 1;}#sk-container-id-17 div.sk-parallel {display: flex;align-items: stretch;justify-content: center;background-color: white;position: relative;}#sk-container-id-17 div.sk-item::before, #sk-container-id-17 div.sk-parallel-item::before {content: \"\";position: absolute;border-left: 1px solid gray;box-sizing: border-box;top: 0;bottom: 0;left: 50%;z-index: -1;}#sk-container-id-17 div.sk-parallel-item {display: flex;flex-direction: column;z-index: 1;position: relative;background-color: white;}#sk-container-id-17 div.sk-parallel-item:first-child::after {align-self: flex-end;width: 50%;}#sk-container-id-17 div.sk-parallel-item:last-child::after {align-self: flex-start;width: 50%;}#sk-container-id-17 div.sk-parallel-item:only-child::after {width: 0;}#sk-container-id-17 div.sk-dashed-wrapped {border: 1px dashed gray;margin: 0 0.4em 0.5em 0.4em;box-sizing: border-box;padding-bottom: 0.4em;background-color: white;}#sk-container-id-17 div.sk-label label {font-family: monospace;font-weight: bold;display: inline-block;line-height: 1.2em;}#sk-container-id-17 div.sk-label-container {text-align: center;}#sk-container-id-17 div.sk-container {/* jupyter's `normalize.less` sets `[hidden] { display: none; }` but bootstrap.min.css set `[hidden] { display: none !important; }` so we also need the `!important` here to be able to override the default hidden behavior on the sphinx rendered scikit-learn.org. See: https://github.com/scikit-learn/scikit-learn/issues/21755 */display: inline-block !important;position: relative;}#sk-container-id-17 div.sk-text-repr-fallback {display: none;}</style><div id=\"sk-container-id-17\" class=\"sk-top-container\"><div class=\"sk-text-repr-fallback\"><pre>LinearRegression()</pre><b>In a Jupyter environment, please rerun this cell to show the HTML representation or trust the notebook. <br />On GitHub, the HTML representation is unable to render, please try loading this page with nbviewer.org.</b></div><div class=\"sk-container\" hidden><div class=\"sk-item\"><div class=\"sk-estimator sk-toggleable\"><input class=\"sk-toggleable__control sk-hidden--visually\" id=\"sk-estimator-id-19\" type=\"checkbox\" checked><label for=\"sk-estimator-id-19\" class=\"sk-toggleable__label sk-toggleable__label-arrow\">LinearRegression</label><div class=\"sk-toggleable__content\"><pre>LinearRegression()</pre></div></div></div></div></div>"
      ],
      "text/plain": [
       "LinearRegression()"
      ]
     },
     "execution_count": 242,
     "metadata": {},
     "output_type": "execute_result"
    }
   ],
   "source": [
    "lri.fit(xtt_scale,predictions)"
   ]
  },
  {
   "cell_type": "code",
   "execution_count": 274,
   "metadata": {},
   "outputs": [],
   "source": [
    "y_pred_T=ridgeRt.predict(xtt_scale)"
   ]
  },
  {
   "cell_type": "code",
   "execution_count": 275,
   "metadata": {},
   "outputs": [
    {
     "data": {
      "text/plain": [
       "array([ 1.47203433e+14,  1.52861678e+14,  4.73630670e+13,  6.65158915e+13,\n",
       "        7.08608347e+13, -4.46866084e+13, -1.96085600e+13,  7.96459119e+13,\n",
       "       -1.40260720e+13,  9.06526660e+10,  7.52949995e+13,  5.18973011e+13,\n",
       "        4.31634863e+13,  7.08101829e+12,  6.15556415e+13, -6.12254077e+13,\n",
       "       -3.36899032e+13, -2.06410476e+12, -2.84925223e+13,  7.15227213e+13,\n",
       "       -1.64889938e+13,  8.27017474e+13,  8.78911666e+13,  4.74194442e+13,\n",
       "       -1.02571026e+13,  8.35158652e+13,  7.99698161e+13,  1.40902629e+14,\n",
       "       -1.12624707e+13, -8.79142051e+12,  1.23159764e+14,  6.57451769e+13,\n",
       "       -2.14389649e+13,  3.10759953e+13,  5.19130592e+13, -1.02602784e+13,\n",
       "        4.79916215e+13,  3.67227683e+13, -1.56753863e+13,  1.51748550e+14,\n",
       "        4.67781499e+13,  5.84249889e+13,  7.16819679e+13, -2.14589727e+13,\n",
       "        5.16886845e+13,  1.00854265e+14,  6.91129510e+13, -6.52557612e+12,\n",
       "        1.84805436e+13,  1.22389595e+14,  8.10730987e+13,  5.71179980e+13,\n",
       "        7.00384197e+13,  2.87267739e+13, -2.83094762e+13,  4.96498201e+13,\n",
       "        6.98594605e+13,  2.62034583e+13,  7.32040371e+13, -2.88964545e+13,\n",
       "        7.52784851e+13,  9.80094324e+13,  1.01167542e+14, -5.11606398e+13,\n",
       "        7.08579764e+13, -1.96970202e+13,  4.93711053e+13, -1.96360327e+13,\n",
       "        5.02084658e+13, -1.51769632e+13,  6.80019481e+13,  7.76320624e+13,\n",
       "        7.90701363e+13, -5.11714376e+13,  7.07956632e+13,  7.82240354e+13,\n",
       "        5.28387363e+13,  4.12600053e+13,  7.58757516e+13,  5.73008678e+13,\n",
       "       -6.62887884e+13,  6.49816410e+13, -1.61120569e+13,  4.68572951e+13,\n",
       "       -1.68401486e+13,  9.86419723e+13, -1.64335756e+13, -4.30013884e+12,\n",
       "        7.53142666e+13,  1.38810233e+14, -1.33285027e+13, -2.69058186e+12,\n",
       "       -2.88964545e+13, -1.99352867e+13,  2.85549929e+13, -3.67970826e+11,\n",
       "        7.70572527e+13, -1.12370641e+13,  7.08513072e+13,  5.41758677e+13,\n",
       "        8.90120125e+13,  2.66776640e+13,  9.22087642e+13,  4.46949045e+13,\n",
       "        6.38985765e+13,  3.64298734e+13,  6.22466869e+13,  6.14230688e+13,\n",
       "        6.61431827e+13,  5.30333992e+13,  4.91452838e+13, -4.70503978e+13,\n",
       "        1.62607473e+13,  1.60675789e+14,  7.58798802e+13, -1.02571026e+13,\n",
       "        5.30287692e+13,  5.29406698e+13,  4.98049052e+13, -3.01137382e+13,\n",
       "        6.02157146e+13, -1.08712009e+13,  7.68976912e+13, -1.97145365e+13,\n",
       "        1.90209690e+13,  6.98927650e+13, -1.89832726e+13,  7.22057159e+13,\n",
       "       -1.64218250e+13,  5.24505578e+13,  7.99934392e+13,  7.31868876e+13,\n",
       "        7.75620798e+13,  7.49280072e+13,  5.18915846e+13,  5.17101791e+13,\n",
       "       -7.55569942e+13, -1.53387120e+13, -1.70654585e+13,  5.92342095e+13,\n",
       "        7.48883510e+13,  7.64881116e+13,  8.17785776e+13,  7.08449555e+13,\n",
       "        6.60501919e+12,  7.33635294e+13,  6.97091031e+13,  7.24590945e+12,\n",
       "       -2.89235004e+13,  6.93610125e+13,  5.04407917e+13,  5.43486359e+13,\n",
       "        1.17179299e+14,  1.17937895e+13, -4.85414027e+13,  6.54401804e+13,\n",
       "        1.29208281e+14, -8.05629985e+13,  1.59847065e+14, -1.52896017e+13,\n",
       "        7.09673345e+13,  7.16325193e+13, -2.15136562e+13,  7.09860719e+13,\n",
       "       -1.02571026e+13,  8.17975214e+13,  7.02508649e+13,  9.99069253e+13,\n",
       "        3.64298734e+13,  4.12600053e+13,  1.50126752e+14,  1.02149351e+14,\n",
       "        9.72302586e+13,  7.43987658e+13,  7.38944008e+13,  7.54704428e+13,\n",
       "        8.81924736e+13,  7.55303550e+13, -1.64482021e+13,  6.59176723e+13,\n",
       "        1.16158774e+13,  7.70592416e+13,  1.60870931e+14,  8.55990112e+13,\n",
       "        8.42617009e+13, -1.39436379e+13,  6.82723255e+13,  7.97978661e+13,\n",
       "        1.51604285e+14,  7.76484480e+13, -1.64303997e+13,  7.43918206e+13,\n",
       "       -2.42440575e+13,  7.95494505e+13, -2.20530540e+11,  9.95521397e+13,\n",
       "        9.59583605e+13,  7.53739771e+13, -4.94649506e+12, -1.58157254e+13,\n",
       "        6.29648004e+13,  1.53498728e+14,  5.79510872e+13, -1.16106278e+12,\n",
       "       -2.82976594e+13,  2.90433111e+13,  1.66149761e+14,  7.41485108e+13,\n",
       "        8.81873506e+13,  8.17725435e+13, -1.14873190e+13,  7.56939868e+13,\n",
       "        8.20733695e+13,  7.60454784e+13,  2.88567924e+13,  4.67892325e+13,\n",
       "        1.14248917e+13,  6.28569742e+13,  3.60853139e+13,  6.55211386e+13,\n",
       "        5.91620758e+13,  4.74038826e+13,  8.21704128e+12,  6.25639174e+13,\n",
       "        8.51111390e+13,  6.84706739e+13,  1.00817093e+14,  7.48772356e+13,\n",
       "        1.14360072e+13,  6.23582306e+13,  7.02089856e+13,  7.04900314e+13,\n",
       "       -1.89832726e+13, -1.95383244e+13,  8.05271696e+13,  4.81695336e+13,\n",
       "        9.74914048e+11,  4.81568303e+13,  1.15476162e+14,  1.68394387e+14,\n",
       "        4.99584095e+13,  4.92663135e+13, -4.93050517e+13, -2.46211801e+13,\n",
       "        2.40091545e+13,  4.74197618e+13,  8.10826262e+13, -2.15494598e+13,\n",
       "        7.45786360e+13,  7.07579541e+13,  7.82282473e+13,  7.08560709e+13,\n",
       "       -2.38329039e+13,  7.31951448e+13,  7.34679950e+13,  7.58757516e+13,\n",
       "        1.41585458e+14, -9.06593357e+12,  6.28760292e+13,  7.46503839e+13,\n",
       "        4.74127749e+13, -2.69094706e+13,  5.41653457e+13,  5.41729260e+13,\n",
       "        1.02243187e+14, -2.40065058e+13,  6.38363099e+13,  2.61483569e+13,\n",
       "       -4.59375877e+13,  7.49292775e+13,  7.56688175e+13,  1.14248917e+13,\n",
       "        6.83263817e+13, -1.70654585e+13,  1.88439811e+14, -7.49330162e+13,\n",
       "        7.15724647e+13,  8.37548500e+12, -1.14807696e+13,  4.68534841e+13,\n",
       "       -1.38922368e+13,  6.61314321e+13,  7.08519215e+13,  1.39498419e+14,\n",
       "        2.64136122e+13,  6.23582306e+13,  5.24569095e+13,  7.90721408e+13,\n",
       "        9.62775129e+13,  7.82335629e+13,  5.65573885e+13, -2.32691109e+13,\n",
       "        6.28569742e+13,  8.58816561e+13,  1.23484257e+14,  5.16531235e+13,\n",
       "        5.73148414e+13,  4.67084227e+13,  7.04836798e+13,  5.25087259e+13,\n",
       "        9.03826972e+13, -2.83113817e+13,  5.42898278e+13, -2.20438976e+13,\n",
       "        4.67781499e+13,  7.51515151e+13,  7.67953079e+13, -1.64902641e+13,\n",
       "        5.42668166e+13,  1.36137856e+13,  7.08388797e+13,  6.27539348e+13,\n",
       "        6.72614173e+13, -6.95507702e+13, -7.05225668e+13,  4.68458621e+13,\n",
       "        5.74786288e+13,  1.25885729e+14,  1.09430141e+14,  6.27034391e+13,\n",
       "        7.53016687e+13, -1.95331597e+13, -1.40789238e+13,  7.61929601e+13,\n",
       "       -2.85087607e+13,  6.87905316e+13, -2.29883920e+13,  1.34563121e+13,\n",
       "        8.81857210e+13,  2.90433111e+13,  7.06683138e+13,  2.71659536e+13,\n",
       "        5.02699082e+13,  3.52822073e+13,  5.41697919e+13, -3.94314686e+13,\n",
       "        7.14522342e+13, -1.70495794e+13, -5.92047601e+13, -5.09766409e+13,\n",
       "        5.38532339e+13, -1.56857158e+13,  1.34642308e+13, -1.59489993e+13,\n",
       "        7.70079141e+12,  9.47089762e+12,  7.92236005e+13, -1.60862910e+13,\n",
       "        7.56575824e+13, -1.08953372e+13,  5.32216077e+13,  7.58932187e+13,\n",
       "        6.16679384e+13, -2.05682205e+13,  7.08411445e+13,  1.17937895e+13,\n",
       "       -1.59289569e+13, -1.58379563e+13,  4.92998996e+13,  7.23986355e+13,\n",
       "       -7.57125830e+13, -1.63137044e+13,  8.06236477e+13,  7.55128879e+13,\n",
       "       -1.92879047e+13,  5.93915209e+13,  5.70921075e+13, -2.20223019e+13,\n",
       "       -2.46143668e+13,  7.41485108e+13,  2.42735423e+13,  7.55154286e+13,\n",
       "       -1.59289569e+13, -2.83276102e+13,  2.60494990e+13, -2.20867271e+13,\n",
       "        4.74070584e+13,  1.00799117e+14,  5.39210873e+13,  3.54554198e+13,\n",
       "       -1.70495794e+13, -2.68105436e+12, -1.64507843e+13, -7.47573272e+13,\n",
       "        7.64941457e+13,  1.21609230e+13, -2.09794894e+13, -2.45398569e+13,\n",
       "        5.16533978e+13,  1.36117201e+14, -4.48627511e+13])"
      ]
     },
     "execution_count": 275,
     "metadata": {},
     "output_type": "execute_result"
    }
   ],
   "source": [
    "y_pred_T"
   ]
  },
  {
   "cell_type": "code",
   "execution_count": 52,
   "metadata": {},
   "outputs": [
    {
     "data": {
      "text/plain": [
       "array([-7.40486789e+10, -4.49390773e+10,  5.65545091e+10, -4.77247458e+10,\n",
       "        4.17473734e+10,  4.56956769e+09, -3.19223457e+10, -9.32346512e+10,\n",
       "        4.13842136e+11, -1.31737854e+11,  7.03774732e+10,  8.97737211e+10,\n",
       "       -5.75141248e+10, -4.26430293e+10, -2.52852930e+10, -6.52893608e+10,\n",
       "       -3.60448007e+10, -1.05208150e+11, -5.93696107e+10,  7.70571312e+10,\n",
       "        3.71596350e+10, -1.11366024e+11,  8.22399110e+10,  3.12936923e+10,\n",
       "        1.52420191e+10, -1.11198193e+11,  2.20094354e+10, -1.11092198e+11,\n",
       "       -4.77797003e+10,  5.73101823e+10, -1.57274259e+11, -5.50988022e+10,\n",
       "        3.99742504e+10,  7.02083604e+10,  1.70180323e+09,  1.50498602e+10,\n",
       "        1.79020200e+09,  1.34206395e+11,  1.66776595e+11, -1.20376244e+10,\n",
       "       -7.28382931e+09, -1.47922346e+10,  2.31284110e+10,  3.87636494e+10,\n",
       "        5.50471782e+10, -4.90079057e+10, -2.37033876e+10,  1.55562798e+11,\n",
       "        3.37515815e+10, -7.61863871e+10, -1.14877100e+10,  6.99434066e+10,\n",
       "        3.14277932e+09, -3.02365337e+10, -6.65568603e+10,  2.25328787e+10,\n",
       "       -2.32468397e+10,  4.34985123e+09,  8.35708983e+09, -5.80112245e+10,\n",
       "        6.93782470e+10, -7.40872226e+10, -1.64871655e+11, -6.38847362e+10,\n",
       "        4.15744304e+10, -5.17316313e+10,  8.88172645e+10,  3.15998586e+10,\n",
       "        4.00068074e+10,  4.62138077e+10,  5.75126678e+10,  5.16415637e+10,\n",
       "        1.93641781e+10, -6.45380764e+10, -5.33011843e+10,  8.30998248e+09,\n",
       "        9.54525273e+09, -1.39711321e+10,  4.13928118e+10,  2.67071815e+10,\n",
       "       -8.56134916e+11,  7.37136368e+10, -4.88396895e+09,  8.86102275e+10,\n",
       "       -2.29233840e+10, -3.64215999e+10,  3.90432122e+10,  9.10447147e+10,\n",
       "        8.65691184e+10, -1.00400876e+11,  2.07552437e+10,  1.27701312e+11,\n",
       "       -5.80112245e+10, -2.31286703e+10, -1.65971869e+11,  3.59626544e+10,\n",
       "       -3.78978685e+10, -4.62424292e+10,  4.11708968e+10,  1.37518359e+11,\n",
       "       -1.03398270e+11,  6.01692766e+10, -1.01694124e+11, -2.82726939e+10,\n",
       "       -8.46924794e+09,  1.66749538e+10,  5.69667802e+10,  3.53123647e+10,\n",
       "       -7.52877701e+10, -2.34523655e+10, -2.51811810e+08, -3.69878234e+10,\n",
       "        5.50462517e+10, -1.10967454e+11,  4.16426184e+10,  1.52420191e+10,\n",
       "        2.78075264e+09,  1.03873060e+11,  1.00465043e+11, -2.47347557e+12,\n",
       "        1.53968300e+11, -5.51319141e+10,  4.65731756e+10, -1.56296074e+10,\n",
       "       -7.58554089e+09,  4.22850796e+10,  3.66647798e+10, -1.19816982e+10,\n",
       "        3.97542000e+10,  3.19191411e+10,  3.27019305e+10,  7.31943184e+09,\n",
       "       -1.51248480e+11,  4.31603349e+10,  8.94278351e+10,  5.51771743e+10,\n",
       "        4.47966458e+11,  1.15612440e+10, -3.24068107e+10,  3.85578569e+09,\n",
       "       -2.27559021e+10,  5.02489408e+10,  9.41079749e+10,  4.07865790e+10,\n",
       "       -3.54249542e+10,  4.12818543e+10,  3.62747283e+10, -9.39159469e+09,\n",
       "        4.94677490e+11, -2.21957861e+10,  7.06848468e+10,  1.20510178e+11,\n",
       "       -1.10927985e+11,  2.78166842e+10,  3.08614827e+10,  1.25404583e+10,\n",
       "       -6.34985264e+10,  4.86792360e+11, -1.94098175e+11, -5.31155652e+10,\n",
       "       -7.06716465e+10,  1.06762105e+10, -3.29379307e+10, -6.95379091e+10,\n",
       "        1.52420191e+10,  8.96827159e+10,  6.89641730e+10,  3.89019591e+10,\n",
       "        1.66749538e+10, -1.39711321e+10, -1.36462056e+11,  5.96983957e+10,\n",
       "        4.52255174e+10,  1.34426102e+10,  6.04157536e+10,  1.74287633e+10,\n",
       "        1.60400975e+11,  1.54823540e+10,  1.27963668e+11, -1.97969584e+10,\n",
       "       -6.22260186e+09,  2.98707772e+10, -1.71889178e+11, -1.61801280e+11,\n",
       "        5.84520875e+10, -2.18790664e+11, -5.40846979e+10,  7.51695200e+10,\n",
       "       -1.18540980e+11,  1.05255448e+11,  3.92353711e+10,  4.68465358e+10,\n",
       "       -6.73596102e+10,  3.68643067e+10,  1.42658169e+11, -1.14221970e+11,\n",
       "        3.30588408e+09, -7.40638856e+10, -1.32728404e+11,  4.12512887e+10,\n",
       "        5.65221172e+10, -1.72250162e+11,  3.16183756e+10, -5.67942747e+10,\n",
       "       -5.69561013e+10,  3.38255748e+10, -1.16468541e+11, -2.28089165e+10,\n",
       "        1.26266846e+11,  9.37428730e+10, -8.24939558e+10, -2.67037400e+10,\n",
       "        6.43621819e+10, -1.19017840e+10,  5.77147872e+10,  2.75930992e+10,\n",
       "        4.84250564e+08,  1.27110123e+11,  2.63244853e+10,  1.21867015e+11,\n",
       "       -1.50062582e+11,  3.03521138e+10, -2.00164165e+11,  4.75566525e+10,\n",
       "       -2.28327974e+10, -6.98410255e+10, -3.88984107e+10, -2.34284582e+10,\n",
       "        1.15680667e+09,  4.66498897e+10,  2.91342471e+09,  1.42996445e+10,\n",
       "        3.66647798e+10,  2.15313056e+10,  1.40324868e+10,  3.58294880e+10,\n",
       "       -2.09227455e+11,  3.50608525e+10, -1.51720001e+11, -1.95329511e+11,\n",
       "       -1.87598585e+11, -5.68348572e+09,  4.30010826e+11, -3.38926367e+10,\n",
       "       -1.09899489e+11,  3.13129082e+10, -1.09112333e+10,  3.25440242e+10,\n",
       "        6.06320164e+09,  1.20654754e+10,  7.62131394e+10,  4.14591351e+10,\n",
       "        2.80129050e+10,  7.81904495e+09, -1.86378025e+10,  4.13928118e+10,\n",
       "       -1.68387588e+11,  1.12263935e+10,  1.28263076e+11,  2.68310557e+10,\n",
       "        3.08901587e+10, -6.73134774e+10,  1.03057559e+11,  6.96920652e+10,\n",
       "       -2.28976898e+10, -3.18767191e+10, -1.72349837e+11, -2.47967925e+11,\n",
       "       -6.99084922e+10,  4.32371985e+10, -3.66563932e+09,  4.84250564e+08,\n",
       "        4.02913037e+10, -3.24068107e+10, -1.41120202e+11, -9.41616404e+11,\n",
       "        3.99324777e+09,  1.13489267e+11,  6.97255604e+10,  8.83796368e+10,\n",
       "        6.30730673e+10, -7.59987579e+10,  2.42959909e+10, -1.91196271e+11,\n",
       "        3.06850770e+10,  4.66498897e+10,  3.23034589e+10,  3.99322452e+10,\n",
       "       -1.78975020e+11,  8.88645914e+09,  5.30040590e+10, -3.15474756e+10,\n",
       "        1.27110123e+11, -7.94607193e+09, -3.44409328e+10,  1.02946602e+11,\n",
       "        2.75526806e+10, -5.11161866e+10,  1.39153267e+10,  1.47806258e+10,\n",
       "        4.53831413e+10, -6.66721556e+10,  1.02203706e+10,  7.54742213e+09,\n",
       "       -7.28382931e+09, -1.42011553e+10,  9.08059130e+10,  3.70827715e+10,\n",
       "        1.39738540e+10,  1.89789711e+10,  6.59480191e+09,  1.09914765e+11,\n",
       "        2.48852844e+10, -9.60034891e+11, -1.38362876e+12,  8.79184555e+10,\n",
       "        1.14178367e+11, -2.04056823e+10, -1.48804489e+11,  9.51851209e+09,\n",
       "        7.07810068e+10,  8.94921102e+10,  1.89239984e+10,  1.18483894e+11,\n",
       "       -9.41762962e+10, -6.28483811e+11,  5.43774461e+11,  1.80586268e+10,\n",
       "        9.23440910e+10,  3.38255748e+10,  6.82415652e+09,  6.70538876e+10,\n",
       "        7.08949856e+10,  1.01860307e+11,  1.03326582e+11,  1.11811924e+10,\n",
       "        4.93352538e+10, -3.14460163e+10,  5.68121245e+11, -7.10143382e+10,\n",
       "        2.23511355e+10,  3.08549856e+10,  1.62568644e+09, -5.85820984e+10,\n",
       "       -5.74988531e+09, -9.08763007e+12,  5.74038892e+10,  3.04991932e+10,\n",
       "       -2.37549991e+12, -5.65923216e+10,  3.77231854e+10,  4.24496857e+10,\n",
       "       -7.74654845e+10, -3.05705670e+10,  4.05559883e+10,  2.78166842e+10,\n",
       "       -2.54368416e+10,  3.99061765e+10, -6.59639511e+09,  4.20117194e+10,\n",
       "        4.30248071e+11,  2.72889038e+10,  9.04739473e+10,  1.44254801e+10,\n",
       "        1.30311359e+10,  1.38759952e+11,  3.67394721e+10,  8.85410256e+09,\n",
       "       -5.87391477e+10, -2.28089165e+10,  4.30330441e+10,  1.45792073e+10,\n",
       "       -2.54368416e+10, -6.76540875e+10,  2.05542193e+10, -3.24365669e+10,\n",
       "        3.05442727e+10, -1.73049235e+11, -2.47649515e+10,  2.26431081e+10,\n",
       "       -3.14460163e+10,  1.28277789e+11, -3.03908931e+10, -9.07711630e+11,\n",
       "        5.06140427e+10,  1.90040628e+10, -9.09531664e+10,  1.73062461e+10,\n",
       "        5.39065122e+10, -1.80000485e+11, -5.54737835e+10])"
      ]
     },
     "execution_count": 52,
     "metadata": {},
     "output_type": "execute_result"
    }
   ],
   "source": [
    "predictions_test"
   ]
  },
  {
   "cell_type": "code",
   "execution_count": 22,
   "metadata": {},
   "outputs": [],
   "source": [
    "# print(\"Train MAE:\", metrics.mean_absolute_error(xTT, predictionsT))\n",
    "# print(lr.score(xTT,predictionsT))"
   ]
  },
  {
   "cell_type": "code",
   "execution_count": 23,
   "metadata": {},
   "outputs": [
    {
     "data": {
      "text/plain": [
       "(391,)"
      ]
     },
     "execution_count": 23,
     "metadata": {},
     "output_type": "execute_result"
    }
   ],
   "source": [
    "predictionsT.shape"
   ]
  },
  {
   "cell_type": "markdown",
   "metadata": {},
   "source": [
    "### 2. Carga los datos de `test.csv` para predecir."
   ]
  },
  {
   "cell_type": "markdown",
   "metadata": {},
   "source": [
    "**¿Por qué puede dar error?** "
   ]
  },
  {
   "cell_type": "code",
   "execution_count": 213,
   "metadata": {},
   "outputs": [],
   "source": [
    "# prediction = lr.predict(X_test)\n",
    "# prediction"
   ]
  },
  {
   "cell_type": "markdown",
   "metadata": {},
   "source": [
    "IMPORTANTE: APLICAR A ESTOS DATOS LO MISMO QUE HAYÁIS APLICADO A LOS DATOS DE ENTRENAMIENTO\n",
    "\n",
    "- SI EL ARRAY CON EL QUE HICISTEIS `.fit()` ERA DE 4 COLUMNAS, PARA `.predict()` DEBEN SER LAS MISMAS\n",
    "- SI AL ARRAY CON EL QUE HICISTEIS `.fit()` LO NORMALIZASTEIS, PARA `.predict()` DEBÉIS NORMALIZARLO\n",
    "- TODO IGUAL SALVO BORRAR FILAS, EL NÚMERO DE ROWS SE DEBE MANTENER EN ESTE SET, PUES LA PREDICCIÓN DEBE TENER 391 FILAS, SI O SI"
   ]
  },
  {
   "cell_type": "markdown",
   "metadata": {},
   "source": [
    "**Entonces, si al cargar los datos de train usé `index_col=0` para que utilizara la primera columna del conjunto de datos como índice, ¿tendré que hacerlo también para el conjunto `test.csv`?**"
   ]
  },
  {
   "cell_type": "code",
   "execution_count": null,
   "metadata": {},
   "outputs": [],
   "source": [
    "# ¿Qué opináis?\n",
    "# Sí"
   ]
  },
  {
   "cell_type": "markdown",
   "metadata": {},
   "source": [
    "![](https://www.tierraljelechu.com/web/img/wiki_up/1.996-SorpresaDto.-1-Red.jpg)"
   ]
  },
  {
   "cell_type": "code",
   "execution_count": null,
   "metadata": {},
   "outputs": [],
   "source": []
  },
  {
   "cell_type": "markdown",
   "metadata": {},
   "source": [
    "### 3. AHORA puedo hacer la predicción que será lo que subirás a Kaggle. "
   ]
  },
  {
   "cell_type": "markdown",
   "metadata": {},
   "source": [
    "**¿Qué es lo que subirás a Kaggle?**"
   ]
  },
  {
   "cell_type": "code",
   "execution_count": 294,
   "metadata": {},
   "outputs": [],
   "source": [
    "# predictionsT=lr.predict(xTT)"
   ]
  },
  {
   "cell_type": "markdown",
   "metadata": {},
   "source": [
    "**¡PERO! Para subir a Kaggle la predicción, ésta tendrá que tener una forma específica y no valdrá otra.**\n",
    "\n",
    "En este caso, la **MISMA** forma que `sample_submission.csv`. "
   ]
  },
  {
   "cell_type": "code",
   "execution_count": 53,
   "metadata": {},
   "outputs": [],
   "source": [
    "sample = pd.read_csv(\"data/sample_submission.csv\") # Esta es mi ruta del archivo, la vuestra puede ser otra"
   ]
  },
  {
   "cell_type": "code",
   "execution_count": null,
   "metadata": {},
   "outputs": [],
   "source": [
    "sample.head()"
   ]
  },
  {
   "cell_type": "code",
   "execution_count": null,
   "metadata": {},
   "outputs": [],
   "source": [
    "sample.shape"
   ]
  },
  {
   "cell_type": "markdown",
   "metadata": {},
   "source": [
    "### 4. Mete tus predicciones en un dataframe. \n",
    "\n",
    "En este caso, la **MISMA** forma que `sample_submission.csv`. "
   ]
  },
  {
   "cell_type": "code",
   "execution_count": 54,
   "metadata": {},
   "outputs": [],
   "source": [
    "submissionR = pd.DataFrame({'id': test['id'].values, 'Price_euros': predictions_train})\n",
    "submissionR.to_csv('submissionR.csv', index=False)"
   ]
  },
  {
   "cell_type": "code",
   "execution_count": 54,
   "metadata": {},
   "outputs": [],
   "source": [
    "submissionL = pd.DataFrame({'id': test['id'].values, 'Price_euros': predictions_test})\n",
    "submissionL.to_csv('submissionL.csv', index=False)"
   ]
  },
  {
   "cell_type": "code",
   "execution_count": 225,
   "metadata": {},
   "outputs": [
    {
     "data": {
      "text/plain": [
       "0       181\n",
       "1       708\n",
       "2       862\n",
       "3      1064\n",
       "4       702\n",
       "       ... \n",
       "386    1281\n",
       "387     524\n",
       "388    1015\n",
       "389    1236\n",
       "390    1036\n",
       "Name: id, Length: 391, dtype: int64"
      ]
     },
     "execution_count": 225,
     "metadata": {},
     "output_type": "execute_result"
    }
   ],
   "source": [
    "test['id']"
   ]
  },
  {
   "cell_type": "code",
   "execution_count": 136,
   "metadata": {},
   "outputs": [],
   "source": [
    "import urllib.request"
   ]
  },
  {
   "cell_type": "markdown",
   "metadata": {},
   "source": [
    "### 5. Pásale el CHEQUEATOR para comprobar que efectivamente está listo para subir a Kaggle."
   ]
  },
  {
   "cell_type": "code",
   "execution_count": 137,
   "metadata": {},
   "outputs": [],
   "source": [
    "def chequeator(df_to_submit):\n",
    "    \"\"\"\n",
    "    Esta función se asegura de que tu submission tenga la forma requerida por Kaggle.\n",
    "    \n",
    "    Si es así, se guardará el dataframe en un `csv` y estará listo para subir a Kaggle.\n",
    "    \n",
    "    Si no, LEE EL MENSAJE Y HAZLE CASO.\n",
    "    \n",
    "    Si aún no:\n",
    "    - apaga tu ordenador, \n",
    "    - date una vuelta, \n",
    "    - enciendelo otra vez, \n",
    "    - abre este notebook y \n",
    "    - leelo todo de nuevo. \n",
    "    Todos nos merecemos una segunda oportunidad. También tú.\n",
    "    \"\"\"\n",
    "    if df_to_submit.shape == sample.shape:\n",
    "        if df_to_submit.columns.all() == sample.columns.all():\n",
    "            if df_to_submit.id.all() == sample.id.all():\n",
    "                print(\"You're ready to submit!\")\n",
    "                submission.to_csv(\"submission.csv\", index = False) #muy importante el index = False\n",
    "                urllib.request.urlretrieve(\"https://i.kym-cdn.com/photos/images/facebook/000/747/556/27a.jpg\", \"gfg.png\")     \n",
    "                img = Image.open(\"gfg.png\")\n",
    "                img.show()   \n",
    "            else:\n",
    "                print(\"Check the ids and try again\")\n",
    "        else:\n",
    "            print(\"Check the names of the columns and try again\")\n",
    "    else:\n",
    "        print(\"Check the number of rows and/or columns and try again\")\n",
    "        print(\"\\nMensaje secreto de Clara: No me puedo creer que después de todo este notebook hayas hecho algún cambio en las filas de `diamonds_test.csv`. Lloro.\")\n"
   ]
  },
  {
   "cell_type": "code",
   "execution_count": 138,
   "metadata": {},
   "outputs": [
    {
     "name": "stdout",
     "output_type": "stream",
     "text": [
      "You're ready to submit!\n"
     ]
    },
    {
     "ename": "NameError",
     "evalue": "name 'Image' is not defined",
     "output_type": "error",
     "traceback": [
      "\u001b[1;31m---------------------------------------------------------------------------\u001b[0m",
      "\u001b[1;31mNameError\u001b[0m                                 Traceback (most recent call last)",
      "\u001b[1;32mc:\\Users\\Agui\\Documents\\Profesional\\01_Formacion\\01_TB_bcmp_DS\\Core curriculum_Student\\Entregas\\Kaggle_Competition\\Kaggle_Ayuda_regul_vars.ipynb Cell 114\u001b[0m line \u001b[0;36m1\n\u001b[1;32m----> <a href='vscode-notebook-cell:/c%3A/Users/Agui/Documents/Profesional/01_Formacion/01_TB_bcmp_DS/Core%20curriculum_Student/Entregas/Kaggle_Competition/Kaggle_Ayuda_regul_vars.ipynb#Y220sZmlsZQ%3D%3D?line=0'>1</a>\u001b[0m chequeator(submission) \u001b[39m# submission es el nombre que le habríamos puesto a nuestro .csv con los valores que me salieron en la predicción\u001b[39;00m\n",
      "\u001b[1;32mc:\\Users\\Agui\\Documents\\Profesional\\01_Formacion\\01_TB_bcmp_DS\\Core curriculum_Student\\Entregas\\Kaggle_Competition\\Kaggle_Ayuda_regul_vars.ipynb Cell 114\u001b[0m line \u001b[0;36m2\n\u001b[0;32m     <a href='vscode-notebook-cell:/c%3A/Users/Agui/Documents/Profesional/01_Formacion/01_TB_bcmp_DS/Core%20curriculum_Student/Entregas/Kaggle_Competition/Kaggle_Ayuda_regul_vars.ipynb#Y220sZmlsZQ%3D%3D?line=20'>21</a>\u001b[0m     submission\u001b[39m.\u001b[39mto_csv(\u001b[39m\"\u001b[39m\u001b[39msubmission.csv\u001b[39m\u001b[39m\"\u001b[39m, index \u001b[39m=\u001b[39m \u001b[39mFalse\u001b[39;00m) \u001b[39m#muy importante el index = False\u001b[39;00m\n\u001b[0;32m     <a href='vscode-notebook-cell:/c%3A/Users/Agui/Documents/Profesional/01_Formacion/01_TB_bcmp_DS/Core%20curriculum_Student/Entregas/Kaggle_Competition/Kaggle_Ayuda_regul_vars.ipynb#Y220sZmlsZQ%3D%3D?line=21'>22</a>\u001b[0m     urllib\u001b[39m.\u001b[39mrequest\u001b[39m.\u001b[39murlretrieve(\u001b[39m\"\u001b[39m\u001b[39mhttps://i.kym-cdn.com/photos/images/facebook/000/747/556/27a.jpg\u001b[39m\u001b[39m\"\u001b[39m, \u001b[39m\"\u001b[39m\u001b[39mgfg.png\u001b[39m\u001b[39m\"\u001b[39m)     \n\u001b[1;32m---> <a href='vscode-notebook-cell:/c%3A/Users/Agui/Documents/Profesional/01_Formacion/01_TB_bcmp_DS/Core%20curriculum_Student/Entregas/Kaggle_Competition/Kaggle_Ayuda_regul_vars.ipynb#Y220sZmlsZQ%3D%3D?line=22'>23</a>\u001b[0m     img \u001b[39m=\u001b[39m Image\u001b[39m.\u001b[39mopen(\u001b[39m\"\u001b[39m\u001b[39mgfg.png\u001b[39m\u001b[39m\"\u001b[39m)\n\u001b[0;32m     <a href='vscode-notebook-cell:/c%3A/Users/Agui/Documents/Profesional/01_Formacion/01_TB_bcmp_DS/Core%20curriculum_Student/Entregas/Kaggle_Competition/Kaggle_Ayuda_regul_vars.ipynb#Y220sZmlsZQ%3D%3D?line=23'>24</a>\u001b[0m     img\u001b[39m.\u001b[39mshow()   \n\u001b[0;32m     <a href='vscode-notebook-cell:/c%3A/Users/Agui/Documents/Profesional/01_Formacion/01_TB_bcmp_DS/Core%20curriculum_Student/Entregas/Kaggle_Competition/Kaggle_Ayuda_regul_vars.ipynb#Y220sZmlsZQ%3D%3D?line=24'>25</a>\u001b[0m \u001b[39melse\u001b[39;00m:\n",
      "\u001b[1;31mNameError\u001b[0m: name 'Image' is not defined"
     ]
    }
   ],
   "source": [
    "chequeator(submission) # submission es el nombre que le habríamos puesto a nuestro .csv con los valores que me salieron en la predicción"
   ]
  },
  {
   "cell_type": "code",
   "execution_count": null,
   "metadata": {},
   "outputs": [],
   "source": []
  }
 ],
 "metadata": {
  "kernelspec": {
   "display_name": "Python 3.7.4 64-bit",
   "language": "python",
   "name": "python3"
  },
  "language_info": {
   "codemirror_mode": {
    "name": "ipython",
    "version": 3
   },
   "file_extension": ".py",
   "mimetype": "text/x-python",
   "name": "python",
   "nbconvert_exporter": "python",
   "pygments_lexer": "ipython3",
   "version": "3.11.6"
  },
  "vscode": {
   "interpreter": {
    "hash": "c0e4a4af33acb5d51fe8962d9e2e7588108ae49a894b6d1e35c2101e79360239"
   }
  }
 },
 "nbformat": 4,
 "nbformat_minor": 4
}
